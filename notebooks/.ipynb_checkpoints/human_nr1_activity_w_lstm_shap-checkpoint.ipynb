{
 "cells": [
  {
   "cell_type": "code",
   "execution_count": 1,
   "metadata": {},
   "outputs": [],
   "source": [
    "## IPython extension to reload modules before executing user code.\n",
    "# Autorelad is an IPython extension to reload modules before executing user code.\n",
    "%load_ext autoreload\n",
    "\n",
    "# Reload all modules (except those excluded by %aimport) every time before executing the Python code typed.\n",
    "%autoreload 2"
   ]
  },
  {
   "cell_type": "code",
   "execution_count": 6,
   "metadata": {},
   "outputs": [
    {
     "name": "stdout",
     "output_type": "stream",
     "text": [
      "ROOT_DIR: /home/jovyan/projects/djoy4stem/human_nuclean_receptor_activity\n",
      "DATASET_DIR: /home/jovyan/projects/djoy4stem/human_nuclean_receptor_activity/data\n",
      "SHAP Version : 0.40.0\n"
     ]
    }
   ],
   "source": [
    "import os\n",
    "import sys\n",
    "\n",
    "ROOT_DIR = os.sep.join(os.path.abspath('.').split(os.sep)[:-1])\n",
    "sys.path.insert(0, ROOT_DIR)\n",
    "DATASET_DIR = \"{}/data\".format(ROOT_DIR)\n",
    "print(\"ROOT_DIR: {}\".format(ROOT_DIR))\n",
    "print(\"DATASET_DIR: {}\".format(DATASET_DIR))\n",
    "\n",
    "from datetime import datetime\n",
    "from matplotlib import pyplot as plt\n",
    "import numpy as np\n",
    "import pandas as pd\n",
    "\n",
    "from rdkit import Chem\n",
    "from rdkit.Chem.rdMolDescriptors import GetMorganFingerprint\n",
    "from rdkit.Chem import PandasTools, MolFromSmiles, AllChem, MolFromSmiles, Draw, MolToInchiKey, MolToSmiles\n",
    "from rdkit import DataStructs\n",
    "from rdkit.SimDivFilters.rdSimDivPickers import MaxMinPicker\n",
    "\n",
    "import re\n",
    "from sklearn.preprocessing import StandardScaler, FunctionTransformer, scale\n",
    "\n",
    "import torch\n",
    "import torch.nn as nn\n",
    "import torch.nn.functional as F # contains functional interface of typical operations used for building nn's\n",
    "import torch.optim as optim     # contains optimizers e.g. Adam, SGD\n",
    "from torch.optim.lr_scheduler import ReduceLROnPlateau\n",
    "from torch.utils.data import DataLoader, Dataset\n",
    "from torchmetrics import ConfusionMatrix, Accuracy\n",
    "from torchtext.vocab import build_vocab_from_iterator\n",
    "from tqdm import tqdm\n",
    "\n",
    "from lib import utilities\n",
    "\n",
    "import shap\n",
    "\n",
    "torch.set_printoptions(linewidth=120)\n",
    "\n",
    "print(\"SHAP Version : {}\".format(shap.__version__))"
   ]
  },
  {
   "cell_type": "markdown",
   "metadata": {},
   "source": [
    "\\\n",
    "We will various packages for the vectorization of SMILES. These will include MolVecGen and SmilesPE, which can be installed using pip"
   ]
  },
  {
   "cell_type": "code",
   "execution_count": 3,
   "metadata": {},
   "outputs": [
    {
     "name": "stdout",
     "output_type": "stream",
     "text": [
      "Requirement already satisfied: SmilesPE in /home/jovyan/envs/tox_21_qsar_modeling/lib/python3.7/site-packages (0.0.3)\n",
      "Requirement already satisfied: fastprogress in /home/jovyan/envs/tox_21_qsar_modeling/lib/python3.7/site-packages (from SmilesPE) (1.0.3)\n",
      "Requirement already satisfied: gensim in /home/jovyan/envs/tox_21_qsar_modeling/lib/python3.7/site-packages (from SmilesPE) (4.2.0)\n",
      "Requirement already satisfied: numpy>=1.17.0 in /home/jovyan/envs/tox_21_qsar_modeling/lib/python3.7/site-packages (from gensim->SmilesPE) (1.21.5)\n",
      "Requirement already satisfied: smart-open>=1.8.1 in /home/jovyan/envs/tox_21_qsar_modeling/lib/python3.7/site-packages (from gensim->SmilesPE) (6.0.0)\n",
      "Requirement already satisfied: scipy>=0.18.1 in /home/jovyan/envs/tox_21_qsar_modeling/lib/python3.7/site-packages (from gensim->SmilesPE) (1.7.3)\n",
      "\u001b[33mWARNING: Running pip as the 'root' user can result in broken permissions and conflicting behaviour with the system package manager. It is recommended to use a virtual environment instead: https://pip.pypa.io/warnings/venv\u001b[0m\u001b[33m\n",
      "\u001b[0m"
     ]
    }
   ],
   "source": [
    "!pip install SmilesPE"
   ]
  },
  {
   "cell_type": "code",
   "execution_count": 4,
   "metadata": {},
   "outputs": [
    {
     "name": "stdout",
     "output_type": "stream",
     "text": [
      "Requirement already satisfied: deepsmiles in /home/jovyan/envs/tox_21_qsar_modeling/lib/python3.7/site-packages (1.0.1)\n",
      "\u001b[33mWARNING: Running pip as the 'root' user can result in broken permissions and conflicting behaviour with the system package manager. It is recommended to use a virtual environment instead: https://pip.pypa.io/warnings/venv\u001b[0m\u001b[33m\n",
      "\u001b[0m"
     ]
    }
   ],
   "source": [
    "!pip install --upgrade deepsmiles"
   ]
  },
  {
   "cell_type": "code",
   "execution_count": 7,
   "metadata": {},
   "outputs": [],
   "source": [
    "import codecs\n",
    "from SmilesPE.tokenizer import *\n",
    "from SmilesPE.pretokenizer import atomwise_tokenizer, kmer_tokenizer\n",
    "import deepsmiles\n",
    "spe_vob= codecs.open('/home/jovyan/projects/data/BPE_codes.txt')\n",
    "spe = SPE_Tokenizer(spe_vob)"
   ]
  },
  {
   "cell_type": "code",
   "execution_count": 12,
   "metadata": {},
   "outputs": [],
   "source": [
    "class SMILESMolDataset(Dataset):\n",
    "    def __init__(self, smiles, target):\n",
    "        self.smiles = smiles\n",
    "        self.target = target\n",
    "    def __len__(self):\n",
    "        return len(self.smiles)\n",
    "    def __getitem__(self, idx):\n",
    "        if torch.is_tensor(idx):\n",
    "            idx = idx.tolist()\n",
    "             \n",
    "        sample = self.smiles[idx]\n",
    "        label  = self.target[idx]\n",
    "\n",
    "        return label, sample\n",
    "    \n",
    "# def build_vocab(datasets, my_tokenizer):   \n",
    "#     vocab = set()\n",
    "#     for dataset in datasets:       \n",
    "#         for item in dataset:\n",
    "#             smiles_string, label = item\n",
    "# #             if callable(my_tokenizer):\n",
    "#             tkns = None\n",
    "# #               if my_tokenizer == atomwise_tokenizer:\n",
    "# #                 tkns = atomwise_tokenizer(smiles_string)\n",
    "#             if callable(my_tokenizer):\n",
    "#                 tkns = my_tokenizer(smiles_string)\n",
    "#             elif isinstance(my_tokenizer, SPE_Tokenizer):\n",
    "#                 tkns  = spe.tokenize(smiles_string).split(' ')\n",
    "#             vocab = vocab.union(set(tkns))\n",
    "    \n",
    "#     vocab_encoder = LabelEncoderExt()   \n",
    "#     vocab_encoder = vocab_encoder.fit(list(vocab))     \n",
    "#     return vocab, vocab_encoder\n",
    "\n",
    "def tokenize(smiles, tokenizer_type='spe_tokenizer', ngram=2):\n",
    "    tokens = None\n",
    "    if tokenizer_type=='spe_tokenizer':\n",
    "        tokens = spe.tokenize(smiles).split(' ')\n",
    "    elif tokenizer_type=='kmer_tokenizer':\n",
    "        tokens = kmer_tokenizer(smiles, ngram)\n",
    "    elif tokenizer_type=='atomwise_tokenizer':\n",
    "        tokens = atomwise_tokenizer(smiles)  \n",
    "    return tokens\n",
    "\n",
    "def build_vocab_torchtext(datasets, tokenizer_type='spe_tokenizer', ngram=8):\n",
    "    for dataset in datasets:\n",
    "        for _, smiles in dataset:\n",
    "            yield tokenize(smiles, tokenizer_type=tokenizer_type, ngram=ngram)\n",
    "            \n",
    "def return_binary_class_labels(predictions, threshold, pos_label=1):\n",
    "    return (predictions>threshold).int()*pos_label"
   ]
  },
  {
   "cell_type": "code",
   "execution_count": 9,
   "metadata": {},
   "outputs": [
    {
     "data": {
      "text/plain": [
       "((9, 'CN(C)c1ccc(, cc1), C(c1ccccc1), =C1, C=CC(, C=, C1), =[N+], (C)C'),\n",
       " (44,\n",
       "  'CN, N(, (C, C), )c, c1, 1c, cc, cc, c(, (c, cc, c1, 1), )C, C(, (c, c1, 1c, cc, cc, cc, cc, c1, 1), )=, =C, C1, 1C, C=, =C, CC, C(, (C, C=, =C, C1, 1), )=, =[N+], [N+](, (C, C), )C'),\n",
       " (45,\n",
       "  'C, N, (, C, ), c, 1, c, c, c, (, c, c, 1, ), C, (, c, 1, c, c, c, c, c, 1, ), =, C, 1, C, =, C, C, (, C, =, C, 1, ), =, [N+], (, C, ), C'))"
      ]
     },
     "execution_count": 9,
     "metadata": {},
     "output_type": "execute_result"
    }
   ],
   "source": [
    "spe_tkns  = tokenize(\"CN(C)c1ccc(cc1)C(c1ccccc1)=C1C=CC(C=C1)=[N+](C)C\", tokenizer_type='spe_tokenizer')\n",
    "kmer_tkns = tokenize(\"CN(C)c1ccc(cc1)C(c1ccccc1)=C1C=CC(C=C1)=[N+](C)C\", tokenizer_type='kmer_tokenizer', ngram=2)\n",
    "atm_tkns  = tokenize(\"CN(C)c1ccc(cc1)C(c1ccccc1)=C1C=CC(C=C1)=[N+](C)C\", tokenizer_type='atomwise_tokenizer')\n",
    "(len(spe_tkns), ', '.join(spe_tkns)), (len(kmer_tkns), ', '.join(kmer_tkns)), (len(atm_tkns), ', '.join(atm_tkns))"
   ]
  },
  {
   "cell_type": "code",
   "execution_count": 10,
   "metadata": {},
   "outputs": [
    {
     "name": "stdout",
     "output_type": "stream",
     "text": [
      "cuda:0\n"
     ]
    }
   ],
   "source": [
    "device = torch.device(\"cuda:0\" if torch.cuda.is_available() else \"cpu\")\n",
    "print(device)"
   ]
  },
  {
   "cell_type": "markdown",
   "metadata": {},
   "source": [
    "# Dataset preparation"
   ]
  },
  {
   "cell_type": "code",
   "execution_count": 20,
   "metadata": {},
   "outputs": [],
   "source": [
    "molecule_column = 'Molecule'\n",
    "smiles_column   = \"SMILES\"\n",
    "inchikey_column = \"InChIKey\"\n",
    "target          = \"Activity_Flag\"\n",
    "canonicalize_first = False\n",
    "use_deepsmiles     = False"
   ]
  },
  {
   "cell_type": "code",
   "execution_count": 21,
   "metadata": {},
   "outputs": [
    {
     "data": {
      "text/plain": [
       "((11821, 11),\n",
       "   Original_Entry_ID Activity_Flag\n",
       " 0          44573832             A\n",
       " 1              6237             N\n",
       " 2           1319563             N\n",
       " 3              8573             N\n",
       " 4              5897             N)"
      ]
     },
     "execution_count": 21,
     "metadata": {},
     "output_type": "execute_result"
    }
   ],
   "source": [
    "compounds_df = pd.read_csv(\"{}/human_nr1h2_nr1h3_nr1h4.csv\".format(DATASET_DIR), sep=\",\")\n",
    "compounds_df.shape, compounds_df[[\"Original_Entry_ID\", target]].head(5)"
   ]
  },
  {
   "cell_type": "code",
   "execution_count": 22,
   "metadata": {},
   "outputs": [],
   "source": [
    "if canonicalize_first:\n",
    "    print(compounds_df[[\"Original_Entry_ID\", smiles_column]].head(5))\n",
    "    compounds_df[smiles_column] = compounds_df[smiles_column].apply(lambda x : MolToSmiles( MolFromSmiles(x), canonical=False, kekuleSmiles=False, doRandom=False ))\n",
    "    print(compounds_df[[\"Original_Entry_ID\", smiles_column]].head(5))"
   ]
  },
  {
   "cell_type": "code",
   "execution_count": 24,
   "metadata": {},
   "outputs": [
    {
     "name": "stderr",
     "output_type": "stream",
     "text": [
      "RDKit ERROR: [19:58:11] Explicit valence for atom # 12 N, 5, is greater than permitted\n",
      "[19:58:11] Explicit valence for atom # 12 N, 5, is greater than permitted\n",
      "RDKit ERROR: [19:58:14] Explicit valence for atom # 1 N, 5, is greater than permitted\n",
      "[19:58:14] Explicit valence for atom # 1 N, 5, is greater than permitted\n",
      "RDKit ERROR: [19:58:16] Explicit valence for atom # 25 N, 4, is greater than permitted\n",
      "[19:58:16] Explicit valence for atom # 25 N, 4, is greater than permitted\n",
      "RDKit ERROR: [19:58:18] Explicit valence for atom # 1 N, 5, is greater than permitted\n",
      "[19:58:18] Explicit valence for atom # 1 N, 5, is greater than permitted\n"
     ]
    },
    {
     "data": {
      "text/plain": [
       "(4,\n",
       "   Original_Entry_ID Activity_Flag\n",
       " 0          44573832             A\n",
       " 1              6237             N\n",
       " 2           1319563             N\n",
       " 3              8573             N\n",
       " 4              5897             N,\n",
       " ['A', 'N'])"
      ]
     },
     "execution_count": 24,
     "metadata": {},
     "output_type": "execute_result"
    }
   ],
   "source": [
    "PandasTools.AddMoleculeColumnToFrame(compounds_df,'SMILES',molecule_column, includeFingerprints=True)\n",
    "compounds_df.Molecule.isna().sum(), compounds_df[[\"Original_Entry_ID\", target]].head(5),compounds_df[target].unique().tolist()"
   ]
  },
  {
   "cell_type": "markdown",
   "metadata": {},
   "source": [
    "## Removing invalid (nan) molecules"
   ]
  },
  {
   "cell_type": "code",
   "execution_count": 30,
   "metadata": {},
   "outputs": [
    {
     "name": "stdout",
     "output_type": "stream",
     "text": [
      "Shape before: (11821, 12)\n",
      "Shape after: (11817, 12)\n"
     ]
    }
   ],
   "source": [
    "print(\"Shape before: {}\".format(compounds_df.shape))\n",
    "compounds_df = compounds_df.dropna(axis=0, subset=[molecule_column])\n",
    "print(\"Shape after: {}\".format(compounds_df.shape))"
   ]
  },
  {
   "cell_type": "code",
   "execution_count": 33,
   "metadata": {},
   "outputs": [
    {
     "ename": "AttributeError",
     "evalue": "module 'pandas.io.formats.format' has no attribute '_get_adjustment'",
     "output_type": "error",
     "traceback": [
      "\u001b[0;31m---------------------------------------------------------------------------\u001b[0m",
      "\u001b[0;31mAttributeError\u001b[0m                            Traceback (most recent call last)",
      "\u001b[0;32m/home/jovyan/envs/tox_21_qsar_modeling/lib/python3.7/site-packages/IPython/core/formatters.py\u001b[0m in \u001b[0;36m__call__\u001b[0;34m(self, obj)\u001b[0m\n\u001b[1;32m    343\u001b[0m             \u001b[0mmethod\u001b[0m \u001b[0;34m=\u001b[0m \u001b[0mget_real_method\u001b[0m\u001b[0;34m(\u001b[0m\u001b[0mobj\u001b[0m\u001b[0;34m,\u001b[0m \u001b[0mself\u001b[0m\u001b[0;34m.\u001b[0m\u001b[0mprint_method\u001b[0m\u001b[0;34m)\u001b[0m\u001b[0;34m\u001b[0m\u001b[0;34m\u001b[0m\u001b[0m\n\u001b[1;32m    344\u001b[0m             \u001b[0;32mif\u001b[0m \u001b[0mmethod\u001b[0m \u001b[0;32mis\u001b[0m \u001b[0;32mnot\u001b[0m \u001b[0;32mNone\u001b[0m\u001b[0;34m:\u001b[0m\u001b[0;34m\u001b[0m\u001b[0;34m\u001b[0m\u001b[0m\n\u001b[0;32m--> 345\u001b[0;31m                 \u001b[0;32mreturn\u001b[0m \u001b[0mmethod\u001b[0m\u001b[0;34m(\u001b[0m\u001b[0;34m)\u001b[0m\u001b[0;34m\u001b[0m\u001b[0;34m\u001b[0m\u001b[0m\n\u001b[0m\u001b[1;32m    346\u001b[0m             \u001b[0;32mreturn\u001b[0m \u001b[0;32mNone\u001b[0m\u001b[0;34m\u001b[0m\u001b[0;34m\u001b[0m\u001b[0m\n\u001b[1;32m    347\u001b[0m         \u001b[0;32melse\u001b[0m\u001b[0;34m:\u001b[0m\u001b[0;34m\u001b[0m\u001b[0;34m\u001b[0m\u001b[0m\n",
      "\u001b[0;32m/home/jovyan/envs/tox_21_qsar_modeling/lib/python3.7/site-packages/rdkit/Chem/PandasTools.py\u001b[0m in \u001b[0;36mpatchPandasrepr\u001b[0;34m(self, **kwargs)\u001b[0m\n\u001b[1;32m    199\u001b[0m   \u001b[0mdefHTMLFormatter_write_cell\u001b[0m \u001b[0;34m=\u001b[0m \u001b[0mpandas\u001b[0m\u001b[0;34m.\u001b[0m\u001b[0mio\u001b[0m\u001b[0;34m.\u001b[0m\u001b[0mformats\u001b[0m\u001b[0;34m.\u001b[0m\u001b[0mhtml\u001b[0m\u001b[0;34m.\u001b[0m\u001b[0mHTMLFormatter\u001b[0m\u001b[0;34m.\u001b[0m\u001b[0m_write_cell\u001b[0m\u001b[0;34m\u001b[0m\u001b[0;34m\u001b[0m\u001b[0m\n\u001b[1;32m    200\u001b[0m   \u001b[0mpandas\u001b[0m\u001b[0;34m.\u001b[0m\u001b[0mio\u001b[0m\u001b[0;34m.\u001b[0m\u001b[0mformats\u001b[0m\u001b[0;34m.\u001b[0m\u001b[0mhtml\u001b[0m\u001b[0;34m.\u001b[0m\u001b[0mHTMLFormatter\u001b[0m\u001b[0;34m.\u001b[0m\u001b[0m_write_cell\u001b[0m \u001b[0;34m=\u001b[0m \u001b[0m_patched_HTMLFormatter_write_cell\u001b[0m\u001b[0;34m\u001b[0m\u001b[0;34m\u001b[0m\u001b[0m\n\u001b[0;32m--> 201\u001b[0;31m   \u001b[0mdefPandasGetAdjustment\u001b[0m \u001b[0;34m=\u001b[0m \u001b[0mpandas\u001b[0m\u001b[0;34m.\u001b[0m\u001b[0mio\u001b[0m\u001b[0;34m.\u001b[0m\u001b[0mformats\u001b[0m\u001b[0;34m.\u001b[0m\u001b[0mformat\u001b[0m\u001b[0;34m.\u001b[0m\u001b[0m_get_adjustment\u001b[0m\u001b[0;34m\u001b[0m\u001b[0;34m\u001b[0m\u001b[0m\n\u001b[0m\u001b[1;32m    202\u001b[0m   \u001b[0mpandas\u001b[0m\u001b[0;34m.\u001b[0m\u001b[0mio\u001b[0m\u001b[0;34m.\u001b[0m\u001b[0mformats\u001b[0m\u001b[0;34m.\u001b[0m\u001b[0mformat\u001b[0m\u001b[0;34m.\u001b[0m\u001b[0m_get_adjustment\u001b[0m \u001b[0;34m=\u001b[0m \u001b[0m_patched_get_adjustment\u001b[0m\u001b[0;34m\u001b[0m\u001b[0;34m\u001b[0m\u001b[0m\n\u001b[1;32m    203\u001b[0m   \u001b[0mres\u001b[0m \u001b[0;34m=\u001b[0m \u001b[0mdefPandasRepr\u001b[0m\u001b[0;34m(\u001b[0m\u001b[0mself\u001b[0m\u001b[0;34m,\u001b[0m \u001b[0;34m**\u001b[0m\u001b[0mkwargs\u001b[0m\u001b[0;34m)\u001b[0m\u001b[0;34m\u001b[0m\u001b[0;34m\u001b[0m\u001b[0m\n",
      "\u001b[0;31mAttributeError\u001b[0m: module 'pandas.io.formats.format' has no attribute '_get_adjustment'"
     ]
    },
    {
     "data": {
      "text/plain": [
       "                Ambit_InchiKey Original_Entry_ID  Entrez_ID Activity_Flag  \\\n",
       "0  CZCGWZPRRHCUID-GSBWGOPVNA-N          44573832       9971             A   \n",
       "1  CZCHIEJNWPNBDE-UHFFFAOYNA-N              6237       9971             N   \n",
       "2  CZEFSBFSQCLEDN-PKRZOPRNNA-N           1319563       7376             N   \n",
       "3  CZGIRAWWWHPJHM-YAQRNVERNA-N              8573       9971             N   \n",
       "4  CZIHNRWJTSTCEX-WYUMXYHSNA-N              5897       9971             N   \n",
       "\n",
       "     pXC50                 DB  Original_Assay_ID  Tax_ID Gene_Symbol  \\\n",
       "0  6.14267            pubchem             352765    9606       NR1H4   \n",
       "1      NaN            pubchem             743220    9606       NR1H4   \n",
       "2      NaN  pubchem_screening             743027    9606       NR1H2   \n",
       "3      NaN            pubchem             743220    9606       NR1H4   \n",
       "4      NaN            pubchem             743220    9606       NR1H4   \n",
       "\n",
       "   Ortholog_Group                                             SMILES  \\\n",
       "0            6137  ClC=1C=C(OCC2=C(ON=C2COC3=C(F)C=CC=C3F)C(C)C)C...   \n",
       "1            6137       IC1=CC(C(=O)C=2C=3C(OC2CC)=CC=CC3)=CC(I)=C1O   \n",
       "2            4643  S(=O)(=O)(N(C1=C(C=C(C=C1)C)C)CC(=O)NC2=C(C=3C...   \n",
       "3            6137             O(C(CC)(C)C#C)C(=O)C=1C(=CC=CC1)C(O)=O   \n",
       "4            6137                 O=C(NC1=CC=2CC=3C(C2C=C1)=CC=CC3)C   \n",
       "\n",
       "                                            Molecule  \n",
       "0  <img data-content=\"rdkit/molecule\" src=\"data:i...  \n",
       "1  <img data-content=\"rdkit/molecule\" src=\"data:i...  \n",
       "2  <img data-content=\"rdkit/molecule\" src=\"data:i...  \n",
       "3  <img data-content=\"rdkit/molecule\" src=\"data:i...  \n",
       "4  <img data-content=\"rdkit/molecule\" src=\"data:i...  "
      ]
     },
     "execution_count": 33,
     "metadata": {},
     "output_type": "execute_result"
    }
   ],
   "source": [
    "compounds_df.head(5)"
   ]
  },
  {
   "cell_type": "markdown",
   "metadata": {},
   "source": [
    "## Removing duplicates\n",
    "For several compounds (referrenced by Ambit_inchikeys) there are more than one rows. The target values will be averaged."
   ]
  },
  {
   "cell_type": "code",
   "execution_count": 35,
   "metadata": {},
   "outputs": [
    {
     "name": "stdout",
     "output_type": "stream",
     "text": [
      "Computing and storing the InChiKeys...\n"
     ]
    },
    {
     "name": "stderr",
     "output_type": "stream",
     "text": [
      "\n",
      "A value is trying to be set on a copy of a slice from a DataFrame.\n",
      "Try using .loc[row_indexer,col_indexer] = value instead\n",
      "\n",
      "See the caveats in the documentation: https://pandas.pydata.org/pandas-docs/stable/user_guide/indexing.html#returning-a-view-versus-a-copy\n"
     ]
    }
   ],
   "source": [
    "if not inchikey_column in compounds_df.columns:\n",
    "    print(\"Computing and storing the InChiKeys...\")\n",
    "    compounds_df[inchikey_column] = compounds_df[molecule_column].apply(lambda x: MolToInchiKey(x))"
   ]
  },
  {
   "cell_type": "code",
   "execution_count": 36,
   "metadata": {},
   "outputs": [
    {
     "name": "stdout",
     "output_type": "stream",
     "text": [
      "InchIKey BXLSIUXUNIEEJB-UHFFFAOYSA-N has 2 conflicting Activity_Flag values. All associated samples will be removed.\n",
      "InchIKey CDFKRQXFXHECQG-UHFFFAOYSA-N has 2 conflicting Activity_Flag values. All associated samples will be removed.\n",
      "InchIKey CHDXIUFTJYWUOY-UHFFFAOYSA-N has 2 conflicting Activity_Flag values. All associated samples will be removed.\n",
      "InchIKey CRWGIKAUSJNKIC-UHFFFAOYSA-N has 2 conflicting Activity_Flag values. All associated samples will be removed.\n",
      "InchIKey CTGIBRGBEVEPID-UHFFFAOYSA-N has 2 conflicting Activity_Flag values. All associated samples will be removed.\n",
      "InchIKey CWBGTRWGHOYBSM-UHFFFAOYSA-N has 2 conflicting Activity_Flag values. All associated samples will be removed.\n",
      "InchIKey CYYVGYOQNIKMRG-UHFFFAOYSA-N has 2 conflicting Activity_Flag values. All associated samples will be removed.\n",
      "InchIKey DFDLNHGSXIIXAJ-UHFFFAOYSA-N has 2 conflicting Activity_Flag values. All associated samples will be removed.\n",
      "InchIKey HBOMLICNUCNMMY-XLPZGREQSA-N has 2 conflicting Activity_Flag values. All associated samples will be removed.\n",
      "InchIKey HMOXHHMJBYTUJK-UHFFFAOYSA-N has 2 conflicting Activity_Flag values. All associated samples will be removed.\n",
      "InchIKey IDEFAXMSWQNUAX-UHFFFAOYSA-N has 2 conflicting Activity_Flag values. All associated samples will be removed.\n",
      "InchIKey JEJWNQZGLAXVKT-UHFFFAOYSA-N has 2 conflicting Activity_Flag values. All associated samples will be removed.\n",
      "InchIKey KBOKCQLFWLAHHN-UHFFFAOYSA-N has 2 conflicting Activity_Flag values. All associated samples will be removed.\n",
      "InchIKey KPPHKUBDCAKMJR-UHFFFAOYSA-N has 2 conflicting Activity_Flag values. All associated samples will be removed.\n",
      "InchIKey MSMQHCNIVJOKRR-UHFFFAOYSA-N has 2 conflicting Activity_Flag values. All associated samples will be removed.\n",
      "InchIKey NLSLEAPXLGIRCU-UHFFFAOYSA-N has 2 conflicting Activity_Flag values. All associated samples will be removed.\n",
      "InchIKey NLXFYNCHNZGZBT-UHFFFAOYSA-N has 2 conflicting Activity_Flag values. All associated samples will be removed.\n",
      "InchIKey NZFZSSRHOHMVFN-UHFFFAOYSA-N has 2 conflicting Activity_Flag values. All associated samples will be removed.\n",
      "InchIKey OAEVJFPPXJHCKV-UHFFFAOYSA-N has 2 conflicting Activity_Flag values. All associated samples will be removed.\n",
      "InchIKey OFQPQJJVXCUPFR-UHFFFAOYSA-N has 2 conflicting Activity_Flag values. All associated samples will be removed.\n",
      "InchIKey ORZCTXQPXYCOAF-UHFFFAOYSA-N has 2 conflicting Activity_Flag values. All associated samples will be removed.\n",
      "InchIKey ORZUZXZETYSZTE-UHFFFAOYSA-N has 2 conflicting Activity_Flag values. All associated samples will be removed.\n",
      "InchIKey OTTVISRUYFBLEW-MREQRLIMSA-N has 2 conflicting Activity_Flag values. All associated samples will be removed.\n",
      "InchIKey POECRYKCKXHVLF-UHFFFAOYSA-N has 2 conflicting Activity_Flag values. All associated samples will be removed.\n",
      "InchIKey RZPAXNJLEKLXNO-GFKLAVDKSA-N has 2 conflicting Activity_Flag values. All associated samples will be removed.\n",
      "InchIKey STQGQHZAVUOBTE-VGBVRHCVSA-N has 2 conflicting Activity_Flag values. All associated samples will be removed.\n",
      "InchIKey SYQXCJLRSLJMRQ-UHFFFAOYSA-N has 2 conflicting Activity_Flag values. All associated samples will be removed.\n",
      "InchIKey TUMZBTITCWKZAT-UHFFFAOYSA-N has 2 conflicting Activity_Flag values. All associated samples will be removed.\n",
      "InchIKey TXVRGWLYTBYDLP-OWOJBTEDSA-N has 2 conflicting Activity_Flag values. All associated samples will be removed.\n",
      "InchIKey UYGWEAIWBIKKSH-UHFFFAOYSA-N has 2 conflicting Activity_Flag values. All associated samples will be removed.\n",
      "InchIKey VEVZSMAEJFVWIL-UHFFFAOYSA-O has 2 conflicting Activity_Flag values. All associated samples will be removed.\n",
      "InchIKey VGQGXKVPVNOLEN-UHFFFAOYSA-N has 2 conflicting Activity_Flag values. All associated samples will be removed.\n",
      "InchIKey VHGMCOKOKWHSEA-UHFFFAOYSA-N has 2 conflicting Activity_Flag values. All associated samples will be removed.\n",
      "InchIKey VOOHWEWPJYDTGC-UHFFFAOYSA-N has 2 conflicting Activity_Flag values. All associated samples will be removed.\n",
      "InchIKey VVKWAMAHKACEKF-UHFFFAOYSA-N has 2 conflicting Activity_Flag values. All associated samples will be removed.\n",
      "InchIKey WUCULNIWKNLKMF-IPQOISQHSA-N has 2 conflicting Activity_Flag values. All associated samples will be removed.\n",
      "InchIKey WZEUOZFLJDPKMG-SNAWJCMRSA-N has 2 conflicting Activity_Flag values. All associated samples will be removed.\n",
      "InchIKey XGSWAPNRKGOSKD-UHFFFAOYSA-N has 2 conflicting Activity_Flag values. All associated samples will be removed.\n",
      "InchIKey XHUGCOUNHPKMDJ-UHFFFAOYSA-N has 2 conflicting Activity_Flag values. All associated samples will be removed.\n",
      "InchIKey XJGFWWJLMVZSIG-UHFFFAOYSA-N has 2 conflicting Activity_Flag values. All associated samples will be removed.\n",
      "InchIKey ZTRCQAWKQLDVDC-UHFFFAOYSA-N has 2 conflicting Activity_Flag values. All associated samples will be removed.\n"
     ]
    },
    {
     "data": {
      "text/plain": [
       "((11205, 13),\n",
       "     Original_Entry_ID Activity_Flag\n",
       " 759           6917728             N\n",
       " 760           6419962             N\n",
       " 761              4929             N\n",
       " 762     CHEMBL3264640             A\n",
       " 763            759280             N)"
      ]
     },
     "execution_count": 36,
     "metadata": {},
     "output_type": "execute_result"
    }
   ],
   "source": [
    "compounds_df = utilities.remove_conflicting_target_values(compounds_df, target, inchikey_column)\n",
    "compounds_df.shape, compounds_df[[\"Original_Entry_ID\", target]].head(5)"
   ]
  },
  {
   "cell_type": "markdown",
   "metadata": {},
   "source": [
    "## Changing the activity labels from string to integer values"
   ]
  },
  {
   "cell_type": "code",
   "execution_count": 77,
   "metadata": {},
   "outputs": [],
   "source": [
    "target_classes=['Inactive','Active']\n",
    "compounds_df[target] = compounds_df[target].apply(lambda tgt: 1 if tgt =='A' else 0)\n",
    "compounds_df.shape, compounds_df[[\"Original_Entry_ID\", target]].head(5)"
   ]
  },
  {
   "cell_type": "markdown",
   "metadata": {},
   "source": [
    "### MinMax Picking Train/Validate/Test Split\n",
    "Reference(s):\n",
    ">- **Picking Diverse Molecules Using Fingerprints (rdkit.SimDivFilters):** https://www.rdkit.org/docs/GettingStartedInPython.html\n",
    ">- **Squonk: RDKit MaxMin Picker:** https://squonk.it/docs/cells/RDKit%20MaxMin%20Picker/\n",
    ">- **Revisting the MaxMinPicker (2017)** http://rdkit.blogspot.com/2017/11/revisting-maxminpicker.html\n",
    ">- **RDKit Blog - MaxMinPicker**: https://github.com/greglandrum/rdkit_blog/blob/master/notebooks/MaxMinPickerRevisited.ipynb"
   ]
  },
  {
   "cell_type": "code",
   "execution_count": 38,
   "metadata": {},
   "outputs": [
    {
     "name": "stdout",
     "output_type": "stream",
     "text": [
      "Splitting the dataset...\n",
      "8964 - 1120 - 1121\n",
      "Indices (training):8964 - [4672, 720]\n",
      "Indices (validation):1120 - [4850]\n",
      "Indices (test):1121 - [3]\n",
      "Train: (8964, 13) - Validate: (1120, 13) - Test: (1121, 13)\n",
      "Index(['Ambit_InchiKey', 'Original_Entry_ID', 'Entrez_ID', 'Activity_Flag',\n",
      "       'pXC50', 'DB', 'Original_Assay_ID', 'Tax_ID', 'Gene_Symbol',\n",
      "       'Ortholog_Group', 'SMILES', 'Molecule', 'InChIKey'],\n",
      "      dtype='object')\n",
      "CPU times: user 3min 39s, sys: 24.1 ms, total: 3min 39s\n",
      "Wall time: 3min 41s\n"
     ]
    }
   ],
   "source": [
    "%%time\n",
    "compounds_train, compounds_validation, compounds_test = utilities.min_max_train_validate_test_split_df(compounds_df, molecule_column=molecule_column\n",
    "                                                                                                       , inchikey_column=inchikey_column, fp_column=None\n",
    "                                                                                                       , train_valid_ratios=[0.8, 0.1]\n",
    "                                                                                                        , fp_type= \"morgan\", random_state=1, return_indices=False)\n"
   ]
  },
  {
   "cell_type": "markdown",
   "metadata": {},
   "source": [
    "### Augment Data"
   ]
  },
  {
   "cell_type": "code",
   "execution_count": 39,
   "metadata": {},
   "outputs": [
    {
     "ename": "AttributeError",
     "evalue": "module 'pandas.io.formats.format' has no attribute '_get_adjustment'",
     "output_type": "error",
     "traceback": [
      "\u001b[0;31m---------------------------------------------------------------------------\u001b[0m",
      "\u001b[0;31mAttributeError\u001b[0m                            Traceback (most recent call last)",
      "\u001b[0;32m/home/jovyan/envs/tox_21_qsar_modeling/lib/python3.7/site-packages/IPython/core/formatters.py\u001b[0m in \u001b[0;36m__call__\u001b[0;34m(self, obj)\u001b[0m\n\u001b[1;32m    343\u001b[0m             \u001b[0mmethod\u001b[0m \u001b[0;34m=\u001b[0m \u001b[0mget_real_method\u001b[0m\u001b[0;34m(\u001b[0m\u001b[0mobj\u001b[0m\u001b[0;34m,\u001b[0m \u001b[0mself\u001b[0m\u001b[0;34m.\u001b[0m\u001b[0mprint_method\u001b[0m\u001b[0;34m)\u001b[0m\u001b[0;34m\u001b[0m\u001b[0;34m\u001b[0m\u001b[0m\n\u001b[1;32m    344\u001b[0m             \u001b[0;32mif\u001b[0m \u001b[0mmethod\u001b[0m \u001b[0;32mis\u001b[0m \u001b[0;32mnot\u001b[0m \u001b[0;32mNone\u001b[0m\u001b[0;34m:\u001b[0m\u001b[0;34m\u001b[0m\u001b[0;34m\u001b[0m\u001b[0m\n\u001b[0;32m--> 345\u001b[0;31m                 \u001b[0;32mreturn\u001b[0m \u001b[0mmethod\u001b[0m\u001b[0;34m(\u001b[0m\u001b[0;34m)\u001b[0m\u001b[0;34m\u001b[0m\u001b[0;34m\u001b[0m\u001b[0m\n\u001b[0m\u001b[1;32m    346\u001b[0m             \u001b[0;32mreturn\u001b[0m \u001b[0;32mNone\u001b[0m\u001b[0;34m\u001b[0m\u001b[0;34m\u001b[0m\u001b[0m\n\u001b[1;32m    347\u001b[0m         \u001b[0;32melse\u001b[0m\u001b[0;34m:\u001b[0m\u001b[0;34m\u001b[0m\u001b[0;34m\u001b[0m\u001b[0m\n",
      "\u001b[0;32m/home/jovyan/envs/tox_21_qsar_modeling/lib/python3.7/site-packages/rdkit/Chem/PandasTools.py\u001b[0m in \u001b[0;36mpatchPandasrepr\u001b[0;34m(self, **kwargs)\u001b[0m\n\u001b[1;32m    199\u001b[0m   \u001b[0mdefHTMLFormatter_write_cell\u001b[0m \u001b[0;34m=\u001b[0m \u001b[0mpandas\u001b[0m\u001b[0;34m.\u001b[0m\u001b[0mio\u001b[0m\u001b[0;34m.\u001b[0m\u001b[0mformats\u001b[0m\u001b[0;34m.\u001b[0m\u001b[0mhtml\u001b[0m\u001b[0;34m.\u001b[0m\u001b[0mHTMLFormatter\u001b[0m\u001b[0;34m.\u001b[0m\u001b[0m_write_cell\u001b[0m\u001b[0;34m\u001b[0m\u001b[0;34m\u001b[0m\u001b[0m\n\u001b[1;32m    200\u001b[0m   \u001b[0mpandas\u001b[0m\u001b[0;34m.\u001b[0m\u001b[0mio\u001b[0m\u001b[0;34m.\u001b[0m\u001b[0mformats\u001b[0m\u001b[0;34m.\u001b[0m\u001b[0mhtml\u001b[0m\u001b[0;34m.\u001b[0m\u001b[0mHTMLFormatter\u001b[0m\u001b[0;34m.\u001b[0m\u001b[0m_write_cell\u001b[0m \u001b[0;34m=\u001b[0m \u001b[0m_patched_HTMLFormatter_write_cell\u001b[0m\u001b[0;34m\u001b[0m\u001b[0;34m\u001b[0m\u001b[0m\n\u001b[0;32m--> 201\u001b[0;31m   \u001b[0mdefPandasGetAdjustment\u001b[0m \u001b[0;34m=\u001b[0m \u001b[0mpandas\u001b[0m\u001b[0;34m.\u001b[0m\u001b[0mio\u001b[0m\u001b[0;34m.\u001b[0m\u001b[0mformats\u001b[0m\u001b[0;34m.\u001b[0m\u001b[0mformat\u001b[0m\u001b[0;34m.\u001b[0m\u001b[0m_get_adjustment\u001b[0m\u001b[0;34m\u001b[0m\u001b[0;34m\u001b[0m\u001b[0m\n\u001b[0m\u001b[1;32m    202\u001b[0m   \u001b[0mpandas\u001b[0m\u001b[0;34m.\u001b[0m\u001b[0mio\u001b[0m\u001b[0;34m.\u001b[0m\u001b[0mformats\u001b[0m\u001b[0;34m.\u001b[0m\u001b[0mformat\u001b[0m\u001b[0;34m.\u001b[0m\u001b[0m_get_adjustment\u001b[0m \u001b[0;34m=\u001b[0m \u001b[0m_patched_get_adjustment\u001b[0m\u001b[0;34m\u001b[0m\u001b[0;34m\u001b[0m\u001b[0m\n\u001b[1;32m    203\u001b[0m   \u001b[0mres\u001b[0m \u001b[0;34m=\u001b[0m \u001b[0mdefPandasRepr\u001b[0m\u001b[0;34m(\u001b[0m\u001b[0mself\u001b[0m\u001b[0;34m,\u001b[0m \u001b[0;34m**\u001b[0m\u001b[0mkwargs\u001b[0m\u001b[0;34m)\u001b[0m\u001b[0;34m\u001b[0m\u001b[0;34m\u001b[0m\u001b[0m\n",
      "\u001b[0;31mAttributeError\u001b[0m: module 'pandas.io.formats.format' has no attribute '_get_adjustment'"
     ]
    },
    {
     "data": {
      "text/plain": [
       "                                SMILES  Activity_Flag\n",
       "0      S(C=1N=C(NC(C)C)N=C(NC(C)C)N1)C              0\n",
       "1           CC(C)Nc1nc(nc(SC)n1)NC(C)C              0\n",
       "2  O=C(O)/C=C/C1=CC=C(C=C1)/C=C/C(=O)O              0\n",
       "3       C(C=Cc1ccc(C=CC(=O)O)cc1)(=O)O              0"
      ]
     },
     "execution_count": 39,
     "metadata": {},
     "output_type": "execute_result"
    }
   ],
   "source": [
    "def augment_data(compounds_df, smiles_column, target_column, n_randomizations=1):  \n",
    "    temp_dfs = []\n",
    "    for index, row in compounds_df.iterrows():\n",
    "        original_smiles = row[smiles_column]\n",
    "        smiles=[original_smiles]\n",
    "        for i in range(n_randomizations):          \n",
    "            smiles.append(utilities.randomize_smiles(original_smiles))\n",
    "#         print(\"SMILES = {}\".format(smiles))\n",
    "        df = pd.DataFrame(list(set(smiles)), columns=[smiles_column])\n",
    "        df[target_column] = row[target_column]\n",
    "#         print(df)\n",
    "        temp_dfs.append(df)\n",
    "    final_df = pd.concat(temp_dfs, axis=0)\n",
    "    final_df = final_df.reset_index(drop=True)\n",
    "    return final_df\n",
    "\n",
    "t = augment_data(compounds_train.iloc[:2,:], smiles_column, target, n_randomizations=1)\n",
    "t"
   ]
  },
  {
   "cell_type": "code",
   "execution_count": 40,
   "metadata": {},
   "outputs": [
    {
     "data": {
      "text/plain": [
       "((8964, 2), (1120, 2), (1121, 2))"
      ]
     },
     "execution_count": 40,
     "metadata": {},
     "output_type": "execute_result"
    }
   ],
   "source": [
    "train_aug, validation_aug, test_aug = augment_data(compounds_train, smiles_column, target, n_randomizations=0)\\\n",
    ", augment_data(compounds_validation, smiles_column, target, n_randomizations=0)\\\n",
    ", augment_data(compounds_test, smiles_column, target, n_randomizations=0)\n",
    "\n",
    "train_aug.shape, validation_aug.shape, test_aug.shape"
   ]
  },
  {
   "cell_type": "code",
   "execution_count": 41,
   "metadata": {},
   "outputs": [],
   "source": [
    "if use_deepsmiles:\n",
    "    print(\"Converting Smiles to DeepSmiles\")\n",
    "    converter = deepsmiles.Converter(rings=True, branches=True)\n",
    "    print(train_aug[[smiles_column]].head(5))\n",
    "    train_aug[\"DeepSmiles\"] = train_aug[smiles_column].apply(lambda smi :  converter.encode(smi))\n",
    "    print(train_aug[[smiles_column, \"DeepSmiles\"]].head(5))\n",
    "    \n",
    "    validation_aug[\"DeepSmiles\"] = validation_aug[smiles_column].apply(lambda smi :  converter.encode(smi))\n",
    "    test_aug[\"DeepSmiles\"] = test_aug[smiles_column].apply(lambda smi :  converter.encode(smi))\n",
    "    \n",
    "    smiles_column = 'DeepSmiles'"
   ]
  },
  {
   "cell_type": "markdown",
   "metadata": {},
   "source": [
    "### Creating SMILESMolDataset objects"
   ]
  },
  {
   "cell_type": "code",
   "execution_count": 42,
   "metadata": {},
   "outputs": [],
   "source": [
    "train_dataset      = SMILESMolDataset(smiles=train_aug[smiles_column].values, target=train_aug[target].values)\n",
    "validation_dataset = SMILESMolDataset(smiles=validation_aug[smiles_column].values, target=validation_aug[target].values)\n",
    "test_dataset       = SMILESMolDataset(smiles=test_aug[smiles_column].values, target=test_aug[target].values)"
   ]
  },
  {
   "cell_type": "code",
   "execution_count": 43,
   "metadata": {},
   "outputs": [],
   "source": [
    "# X_train, y_train, X_validation, y_validation, X_test, y_test = utilities.random_train_validation_test_split(compounds_df[smiles_column], compounds_df[target], 0.1, 0.1, random_state=42)\n",
    "# # print(X_train.values.tolist())\n",
    "# train_dataset      = SMILESMolDataset(smiles=X_train.values.tolist(), target=y_train.tolist())\n",
    "# validation_dataset = SMILESMolDataset(smiles=X_validation.values.tolist(), target=y_validation.tolist())\n",
    "# test_dataset       = SMILESMolDataset(smiles=X_test.values.tolist(), target=y_test.tolist())\n",
    "# len(train_dataset), len(validation_dataset), len(test_dataset)"
   ]
  },
  {
   "cell_type": "markdown",
   "metadata": {},
   "source": [
    "### Generate a vocabulary\n",
    "We will use torchtext's functionalities including vocab, and asssociated functions.\n",
    "> - https://pytorch.org/text/stable/vocab.html"
   ]
  },
  {
   "cell_type": "code",
   "execution_count": 64,
   "metadata": {},
   "outputs": [
    {
     "name": "stdout",
     "output_type": "stream",
     "text": [
      "<class 'generator'>\n",
      "['__class__', '__del__', '__delattr__', '__dir__', '__doc__', '__eq__', '__format__', '__ge__', '__getattribute__', '__gt__', '__hash__', '__init__', '__init_subclass__', '__iter__', '__le__', '__lt__', '__name__', '__ne__', '__new__', '__next__', '__qualname__', '__reduce__', '__reduce_ex__', '__repr__', '__setattr__', '__sizeof__', '__str__', '__subclasshook__', 'close', 'gi_code', 'gi_frame', 'gi_running', 'gi_yieldfrom', 'send', 'throw']\n",
      "['S', '(', 'C', '=', '1', 'N', '=', 'C', '(', 'N', 'C', '(', 'C', ')', 'C', ')', 'N', '=', 'C', '(', 'N', 'C', '(', 'C', ')', 'C', ')', 'N', '1', ')', 'C']\n",
      "CPU times: user 172 ms, sys: 60.1 ms, total: 232 ms\n",
      "Wall time: 232 ms\n"
     ]
    }
   ],
   "source": [
    "%%time\n",
    "TOKENIZER_TYPE = 'atomwise_tokenizer'\n",
    "N_GRAM = 2\n",
    "\n",
    "tokens = build_vocab_torchtext([train_dataset, test_dataset], tokenizer_type=TOKENIZER_TYPE, ngram = N_GRAM)\n",
    "print(tokens.__class__)\n",
    "print(dir(tokens))\n",
    "for t in tokens:\n",
    "    print(t)\n",
    "    break\n",
    "\n",
    "\n",
    "tt_vocab  = build_vocab_from_iterator(tokens\n",
    "                                      , min_freq=1  # indicates that we'll keep all words whose word frequency is at least min_freq.\n",
    "                                      , specials=[\"<UNK>\"]\n",
    "                                     )\n",
    "tt_vocab.set_default_index(tt_vocab[\"<UNK>\"])"
   ]
  },
  {
   "cell_type": "code",
   "execution_count": 65,
   "metadata": {},
   "outputs": [
    {
     "name": "stdout",
     "output_type": "stream",
     "text": [
      "S(C=1N=C(NC(C)C)N=C(NC(C)C)N1)C\n",
      "['S(', 'C=', '1', 'N=C(N', 'C(C)C)', 'N=C(N', 'C(C)C)', 'N1)', 'C']\n",
      "[0, 0, 7, 0, 0, 0, 0, 0, 1]\n",
      "37\n"
     ]
    }
   ],
   "source": [
    "# print(dir(tt_vocab))\n",
    "# print(tt_vocab.get_itos())\n",
    "# print(tt_vocab.get_stoi())\n",
    "print(train_dataset[0][1])\n",
    "print(spe.tokenize(train_dataset[0][1]).split())\n",
    "print(tt_vocab(spe.tokenize(train_dataset[0][1]).split()))\n",
    "print(len(tt_vocab))"
   ]
  },
  {
   "cell_type": "markdown",
   "metadata": {},
   "source": [
    "### Creating the loaders"
   ]
  },
  {
   "cell_type": "markdown",
   "metadata": {},
   "source": [
    "Pytorch work with datasets and dataloaders to feed the minibatches to the model during training, so we convert the data. It’s easy to create a dataset from the already created tensors. The batch size is set and the trainloader will shuffle the data when an epoch has been used.\n",
    "Here, we train and validation data loaders that we'll use during the training process to go through data. To create data loaders, we load each dataset again and given them to DataLoader() constructor as input. In order to tokenize and vectorize text documents, we use a helper function that is given to collate_fn argument of the DataLoader() constructor. This function will be applied to each batch when we loop through data using data loaders. The function loops through each text document, tokenize them, and then vectorizes tokens/words using vocabulary. We will keep a maximum number of words per document, denoted by the variable ***max_tokens***. To handle that condition, we have truncated words from documents that have more than 50 words and padded documents (with zeros) to documents that have less than ***max_tokens*** words. The number of words to keep per document is one of the hyperparameters to train. We have kept it at ***max_tokens*** but different values can be tried to check whether any helps improve the accuracy of the model.\n",
    " "
   ]
  },
  {
   "cell_type": "code",
   "execution_count": 66,
   "metadata": {},
   "outputs": [],
   "source": [
    "max_tokens=len(tt_vocab)\n",
    "batch_size=128\n",
    "# copied from https://coderzcolumn.com/tutorials/artificial-intelligence/word-embeddings-for-pytorch-text-classification-networks\n",
    "def vectorize_batch(batch):\n",
    "    Y, X = list(zip(*batch))\n",
    "    X = [tt_vocab(spe.tokenize(sample).split(' ')) for sample in X]\n",
    "    X = [sample+([0]* (max_tokens-len(sample))) if len(sample)<max_tokens else sample[:max_tokens] for sample in X] ## Bringing all samples to max_tokens length.\n",
    "    return torch.tensor(X), torch.tensor(Y) ## We have deducted 1 from target names to get them in range [0,1,2,3,5] from [1,2,3,4,5]\n",
    "\n",
    "\n",
    "train_loader = DataLoader(train_dataset, batch_size=batch_size, collate_fn=vectorize_batch)\n",
    "validation_loader  = DataLoader(validation_dataset, batch_size=batch_size, collate_fn=vectorize_batch)\n",
    "test_loader  = DataLoader(test_dataset, batch_size=batch_size, collate_fn=vectorize_batch)\n",
    "\n",
    "# print(\"TRAIN ------------\")\n",
    "# for X, Y in train_loader:\n",
    "#     print(X)\n",
    "#     print(Y)\n",
    "#     break\n",
    "# print(\"\\nVALIDATION ------------\")\n",
    "# for X, Y in validation_loader:\n",
    "#     print(X)\n",
    "#     print(Y)\n",
    "#     break\n",
    "# print(\"\\nTEST ------------\")\n",
    "# for X, Y in test_loader:\n",
    "#     print(X)\n",
    "#     print(Y)\n",
    "#     break"
   ]
  },
  {
   "cell_type": "markdown",
   "metadata": {},
   "source": [
    "\\\n",
    "If you run into <em>\"RuntimeError: CUDA error: device-side assert triggered\"</em>, it is possible that the notebook  is running out of GPU memory. This can sometimes happen when you rerun some of the cells but the memory  is not properly released beforehand. \n",
    "1. Try using the CPU to see if the problem still exists\n",
    "2. Check your labels, i.e.: \"whether -1 exists in the labels of the training data\"\n",
    "\n",
    "References:\n",
    ">- https://pycad.co/runtimeerror-cuda-error-device-side-assert-triggered/\n",
    ">- https://github.com/deepset-ai/haystack/issues/1833\n",
    ">- https://clay-atlas.com/us/blog/2021/06/23/linux-en-machine-learning-pytorch-cuda-error-device-side-assert/"
   ]
  },
  {
   "cell_type": "markdown",
   "metadata": {},
   "source": [
    "# Learning\n",
    "<strong>Loss functions</strong> \\\n",
    "We will use two different loss functions, namely, the BCE Loss and the BCEWithLogitsLoss functions. The difference between nn.BCEWithLogitsLoss and nn.BCELoss is that BCE with Logits loss adds the Sigmoid function into the loss function. With simple BCE Loss, you will have to add Sigmoid to the neural network, whereas with BCE With Logits Loss you will not. The BCEWithLogitsLoss is generally more stable and thus recommended.\n",
    "\n",
    ">- https://github.com/christianversloot/machine-learning-articles/blob/main/how-to-use-pytorch-loss-functions.md\n",
    ">- https://en.wikipedia.org/wiki/LogSumExp#log-sum-exp_trick_for_log-domain_calculations\n",
    "\n",
    "**Statistics report** \\\n",
    "We will compute the confusion matrix and accuracy on the train/validate/test sets.\n",
    ">- https://torchmetrics.readthedocs.io/en/stable/classification/confusion_matrix.html\n",
    ">- https://torchmetrics.readthedocs.io/en/stable/classification/accuracy.html\n",
    "\n",
    "**Early stopping and learning rate scheduler** <!-- No \\ symbol after, since there is no sentence right after-->\n",
    "\n",
    ">- https://debuggercafe.com/using-learning-rate-scheduler-and-early-stopping-with-pytorch/\n",
    ">- https://pythonguides.com/pytorch-early-stopping/\n",
    ">- https://pytorch.org/docs/stable/generated/torch.optim.lr_scheduler.ReduceLROnPlateau.html#torch.optim.lr_scheduler.ReduceLROnPlateau\n",
    "\n",
    "A helpful library for implementing LR and ES is torchsample, which can be found on [GitHub](https://github.com/ncullen93/torchsample). An example of how to use it is described [here](https://medium.com/analytics-vidhya/early-stopping-with-pytorch-to-restrain-your-model-from-overfitting-dce6de4081c5). But we will use a much simpler implementation.\n",
    "\n",
    "P.S.: Instead of using early stopping or schedule the learning rate, one can use optimizaers such as Adam that already implements a learning rate scheduling approach. However, it does not always outperforms. However, it can cause model divergence."
   ]
  },
  {
   "cell_type": "code",
   "execution_count": 67,
   "metadata": {},
   "outputs": [],
   "source": [
    "class EarlyStopping():\n",
    "    \"\"\"\n",
    "    Early stopping to stop the training when the loss does not improve after\n",
    "    certain epochs. Code written by Sovit Ranjan RathSovit Ranjan Rath \n",
    "    https://colab.research.google.com/drive/1krRZ-VVfpXUsHk3JFCjBtYUiUOwL8vW0?usp=sharing&pli=1&authuser=1#scrollTo=TBuoZ1PgK01f\n",
    "    \"\"\"\n",
    "    def __init__(self, patience=5, min_delta=0):\n",
    "        \"\"\"\n",
    "        :param patience: how many epochs to wait before stopping when loss is\n",
    "               not improving\n",
    "        :param min_delta: minimum difference between new loss and old loss for\n",
    "               new loss to be considered as an improvement\n",
    "        \"\"\"\n",
    "        self.patience = patience\n",
    "        self.min_delta = min_delta\n",
    "        self.counter = 0\n",
    "        self.best_loss = None\n",
    "        self.early_stop = False\n",
    "\n",
    "    def __call__(self, val_loss):\n",
    "        if self.best_loss == None:\n",
    "            self.best_loss = val_loss\n",
    "        elif self.best_loss - val_loss > self.min_delta:\n",
    "            self.best_loss = val_loss\n",
    "            # reset counter if validation loss improves\n",
    "            self.counter = 0\n",
    "        elif self.best_loss - val_loss < self.min_delta:\n",
    "            self.counter += 1\n",
    "            print(f\"INFO: Early stopping counter {self.counter} of {self.patience}\")\n",
    "            if self.counter >= self.patience:\n",
    "                print('INFO: Early stopping')\n",
    "                self.early_stop = True\n"
   ]
  },
  {
   "cell_type": "code",
   "execution_count": 68,
   "metadata": {},
   "outputs": [],
   "source": [
    "class ActivityNet(nn.Module):\n",
    "    def __init__(self, num_tokens, embedding_size, hidden_size, dropout_rate, output_size, squash_output=True):\n",
    "        super(ActivityNet, self).__init__()\n",
    "        \n",
    "        self.num_tokens     = num_tokens          \n",
    "        self.hidden_size    = hidden_size\n",
    "        self.embedding_size = embedding_size\n",
    "        self.dropout_rate   = dropout_rate\n",
    "        self.output_size    = output_size\n",
    "        self.squash_output  = squash_output\n",
    "        # print(\"{} - {}\".format(self.num_tokens, self.embedding_size)). \n",
    "        \n",
    "        ## Embedding Layer \n",
    "        # We intitialize a layer with a number of embeddings equal to the length of vocabulary and embedding length embedding_size.\n",
    "        # This initialization will create a weight tensor of shape (num_tokens, embedding_size) which has an embedding vector of \n",
    "        # length embedding_size for each token of vocabulary.\n",
    "        # The layer is responsible for mapping the index (a number in the range [0, num_tokens]) of each token to a float vector \n",
    "        # of length embedding_size because we have set the embedding length to embedding_size. \n",
    "        # This layer takes tensor of shape (batch_size, max_tokens) and outputs tensor of shape (batch_size, max_tokens, embed_len).\n",
    "        # Although \"max_tokens is not defined here, each smiles strings in this code was set to a maximum of max_length tokens\"\n",
    "        # Each token gets assigned its respective embedding vector based on the index value by this layer.\n",
    "\n",
    "        self.embedding = nn.Embedding(num_embeddings=self.num_tokens, embedding_dim=self.embedding_size)\n",
    "        \n",
    "        ## the LSTM Layer\n",
    "        # The LSTM layer internally loops through embeddings of each text example and generates hidden and output tensors. The layer is basically a\n",
    "        # loop through embeddings of single text examples one by one generating output after each token. It takes the hidden state and the carry\n",
    "        # as input which are generally random numbers and required by first token only. The input to LSTM is of shape (batch_size, max_tokens, embedding_size).\n",
    "        # Given that we are using only one LSTM layer, the output is of shape (batch_size, max_tokens, hidden_size).\n",
    "        #\n",
    "        # LSTM.weight_ih_l[k] – the learnable input-hidden weights of the k-th layer (W_ii|W_if|W_ig|W_io), of shape (4*hidden_size, input_size)\n",
    "        # LSTM.weight_hh_l[k] – the learnable hidden-hidden weights of the k-th layer (W_ii|W_if|W_ig|W_io), of shape (4*hidden_size, input_size)\n",
    "        # LSTM.bias_ih_l[k] – the learnable input-hidden bias of the k-th layer (b_ii|b_if|b_ig|b_io), of shape (4*hidden_size) \n",
    "        # LSTM.bias_hh_l[k] – the learnable input-hidden bias of the k-th layer  (b_hi|b_hf|b_hg|b_ho), of shape (4*hidden_size) \n",
    "        \n",
    "        self.lstm = nn.LSTM(input_size=self.embedding_size, hidden_size=self.hidden_size, num_layers=1\n",
    "                            , batch_first=True # If True, then the input and output tensors are provided as (batch, seq, feature) instead of (seq, batch, feature).\n",
    "                            , bidirectional=False # If True, becomes a bidirectional LSTM.\n",
    "                            )\n",
    "        self.h1 = nn.Linear(self.hidden_size, self.hidden_size)\n",
    "#         self.h2 = nn.Linear(hidden_size, hidden_size)\n",
    "#         self.h3 = nn.Linear(hidden_size, hidden_size)\n",
    "        self.output_layer = nn.Linear(self.hidden_size, self.output_size)\n",
    "      \n",
    "        # Activation\n",
    "        self.hl_activation = nn.ReLU()\n",
    "        if self.squash_output:\n",
    "            self.ol_activation = nn.Sigmoid()\n",
    "        \n",
    "        # Regularization\n",
    "        self.dropout1 = nn.Dropout(self.dropout_rate)\n",
    "        self.dropout2 = nn.Dropout(self.dropout_rate)\n",
    "#         self.dropout3 = nn.Dropout(self.dropout_rate)\n",
    "\n",
    "        for layer in self.children():\n",
    "            print(\"Layer : {}\".format(layer))\n",
    "            print(\"Parameters : \")\n",
    "            # https://blog.paperspace.com/pytorch-101-advanced/\n",
    "            for param in layer.named_parameters():\n",
    "                print(\"{} : {}\".format(param[0], param[1].shape))\n",
    "            print()\n",
    "       \n",
    "    def forward(self, X):        \n",
    "#         print(\"X class = {}\".format(X.__class__))\n",
    "        embeddings = self.embedding(X)\n",
    "#         self.flat(embeddings)\n",
    "#         embeddings = embeddings.mean(dim=1)\n",
    "#         print(embeddings.shape)\n",
    "#         print(\"Mean: {}\".format(embeddings.mean(dim=1).shape))\n",
    "#         print(embeddings.shape)\n",
    "#         print(embeddings)\n",
    "#         h_n, c_n = torch.randn(1, len(X), self.hidden_size).to(device), torch.randn(1, len(X), self.hidden_size).to(device)\n",
    "#         output, (h_n, c_n) = self.lstm(embeddings, (h_n, c_n))\n",
    "        output, (h_n, c_n) = self.lstm(embeddings)\n",
    "#         output, (h_n, c_n) = self.lstm(embeddings)\n",
    "#         print(\"LSTM output:{} h_n:{} c_n:{}\".format(output.shape, h_n.shape, c_n.shape))\n",
    "#         print(self.dropout1)\n",
    "#         output = self.dropout1(h_n) #Dropout\n",
    "        output = self.h1(output) # Pass into the hidden layer\n",
    "#         output = self.hl_activation(output) # Use ReLU on hidden activation\n",
    "        output = self.dropout2(output) # dropout\n",
    "        \n",
    "#         output = self.h2(output)\n",
    "#         output = self.hl_activation(output)\n",
    "#         output = self.dropout3(output)\n",
    "        output = self.output_layer(output)\n",
    "\n",
    "        if self.squash_output:\n",
    "            output = self.ol_activation(output)\n",
    "#         print(\"output shape: {}\".format(output.shape))\n",
    "        output_view = output[:,-1,:].view(-1)\n",
    "#         print(\"output_view shape: {}\".format(output_view.shape))\n",
    "#         print(output_view)\n",
    "#         print(output)\n",
    "        return output_view"
   ]
  },
  {
   "cell_type": "code",
   "execution_count": 69,
   "metadata": {},
   "outputs": [],
   "source": [
    "def fit_model(model, criterion, optimizer, train_loader, pos_label=1, threshold=0.5):\n",
    "    \"\"\"\n",
    "    Fit the model, and compute loss and accuracy\n",
    "    \"\"\"\n",
    "    running_loss        = 0\n",
    "    num_samples         = 0\n",
    "    correct_predictions = 0\n",
    "    count = 0\n",
    "    model.train()\n",
    "    for smiles_rep, labels in train_loader:\n",
    "        smiles_rep = smiles_rep.to(device)\n",
    "        labels = labels.to(device)\n",
    "#         print(smiles_rep.shape)\n",
    "#         print(labels.shape)\n",
    "\n",
    "        # Training pass\n",
    "        # (1) Initialize the gradients, which will be recorded during the forward pass\n",
    "        optimizer.zero_grad()\n",
    "        \n",
    "        # (2) Forward pass of the mini-batch\n",
    "#         output = model(smiles_rep)[0].flatten().float()\n",
    "        output = model(smiles_rep).float()\n",
    "#         print(\"Train outputbefore : {}\".format(output.shape))\n",
    "#         output = output[:,-1,:].view(-1)\n",
    "#         print(\"Train output after: {}\".format(output.shape))\n",
    "#         print(\"Train output: {}\".format(output.type()))\n",
    "#         print(\"Train output[:5]: {}\".format(output))\n",
    "#         print(output.view(-1))\n",
    "\n",
    "        # (3) Computing the loss\n",
    "#         print(\"Labels size: {}\".format(labels.shape))\n",
    "#         print(\"Labels: {}\".format(labels.float().type()))\n",
    "#         print(\"Labels: {}\".format(labels))\n",
    "        loss = criterion(output, labels.float())\n",
    "#         print(\"Train Loss: {}\".format(loss))\n",
    "\n",
    "        # (4) Computes the gradient of current tensor w.r.t. graph leaves.\n",
    "        loss.backward()\n",
    "        nn.utils.clip_grad_norm_(model.parameters(), 1)\n",
    "        # (5) Optimize the weights\n",
    "        optimizer.step()\n",
    "        \n",
    "        running_loss    += loss.item()          \n",
    "        num_samples     += labels.size()[0]\n",
    "        predicted_labels = return_binary_class_labels(output, threshold, pos_label)\n",
    "        correct_predictions += (predicted_labels == labels).sum().item()       \n",
    "\n",
    "#         print(\"Train output     = {}\".format(output))\n",
    "#         print(\"predicted_labels = {}\".format(predicted_labels))\n",
    "#         print(\"Labels           = {}\".format(labels))\n",
    "        \n",
    "    train_loss     = running_loss/len(train_loader)            \n",
    "    train_accuracy = correct_predictions/num_samples\n",
    "        \n",
    "    return  train_loss, train_accuracy\n",
    "\n",
    "\n",
    "def validate_model(model, criterion, optimizer, validation_loader, pos_label=1, threshold=0.5):\n",
    "    \"\"\"\n",
    "    \"\"\"\n",
    "    running_loss        = 0\n",
    "    num_val_samples     = 0\n",
    "    correct_predictions = 0\n",
    "    model.eval()\n",
    "    with torch.no_grad():\n",
    "        for smiles_rep, labels in validation_loader:\n",
    "            smiles_rep = smiles_rep.to(device)\n",
    "            labels = labels.to(device)\n",
    "            output = model(smiles_rep)\n",
    "#             output = output[:,-1,:].view(-1)\n",
    "            \n",
    "#             print(\"Validation output: {}\".format(output.shape))\n",
    "#             print(\"Validation: {}\".format(output.type()))\n",
    "#             print(\"Validation[:5]: {}\".format(output[:10]))              \n",
    "#             print(\"Labels: {}\".format(labels.float().type()))\n",
    "#             print(\"Labels: {}\".format(labels[:10]))   \n",
    "\n",
    "            loss = criterion(output, labels.float())\n",
    "            running_loss     += loss\n",
    "#             print(\"Running validation_loss = {}\".format(running_loss))\n",
    "            num_val_samples  += labels.size()[0]\n",
    "            predicted_labels  = return_binary_class_labels(output, threshold, pos_label)\n",
    "#             print(\"Predicted labels ({}) : {}\".format(predicted_labels.shape, predicted_labels[:5]))\n",
    "#             print(\"Labels : {}\".format(labels[:5]))\n",
    "#             print(\"predicted_labels == labels : {}\".format((predicted_.flatten()).sum().item()\n",
    "            correct_predictions += (predicted_labels == labels).sum().item()    \n",
    "        validation_loss     = running_loss/len(validation_loader)\n",
    "#         print(\"validation_loss = {}\".format(validation_loss))\n",
    "#         validation_loss     = (running_loss/len(validation_loader)).to('cpu')            \n",
    "        validation_accuracy = correct_predictions/num_val_samples   \n",
    "        \n",
    "    return validation_loss, validation_accuracy\n",
    "\n",
    "\n",
    "def train_model(model, criterion, optimizer, n_epochs, train_loader, validation_loader, lr_scheduler=None, early_stopper=None, with_proba=True, pos_label=1, threshold=0.5):\n",
    "    \"\"\"\n",
    "    Fit and validate model\n",
    "    \"\"\"\n",
    "    train_losses, validation_losses, train_accuracies, validation_accuracies = [], [], [], []\n",
    "    for e in tqdm(range(n_epochs),desc='Training'):\n",
    "#         print(\"Epoch {} of {} epochs\".format(e+1, n_epochs))\n",
    "        train_loss, train_accuracy           = fit_model(model=model, criterion=criterion, optimizer=optimizer, train_loader=train_loader\n",
    "                                                         , pos_label=pos_label, threshold=threshold)\n",
    "        validation_loss, validation_accuracy = validate_model(model=model, criterion=criterion, optimizer=optimizer, validation_loader=validation_loader\n",
    "                                                              , pos_label=pos_label, threshold=threshold)\n",
    "        \n",
    "        train_losses.append(train_loss)\n",
    "        validation_losses.append(validation_loss.item())\n",
    "        train_accuracies.append(train_accuracy)\n",
    "        validation_accuracies.append(validation_accuracy)\n",
    "        \n",
    "        if lr_scheduler is not None:\n",
    "            lr_scheduler.step(validation_loss)\n",
    "            \n",
    "        if early_stopper is not None:\n",
    "            early_stopper(validation_loss)\n",
    "            if early_stopper.early_stop:\n",
    "                break\n",
    "        \n",
    "        if e%10 == 0:\n",
    "            print(\"Epoch: %3i Training loss: %0.2F Validation loss: %0.2F\"%(e,(train_loss), validation_loss))\n",
    "            print(\"Epoch: %3i Training accuracy: %0.2F Validation accuracy: %0.2F\"%(e,(train_accuracy), validation_accuracy))\n",
    "    \n",
    "    return train_losses, validation_losses, train_accuracies, validation_accuracies"
   ]
  },
  {
   "cell_type": "code",
   "execution_count": 70,
   "metadata": {},
   "outputs": [],
   "source": [
    "n_epochs       = 25\n",
    "num_tokens     = len(tt_vocab)  ## setting this to a number lower than len(vocab) will lead to errors, since the indices go from 0 to len(tt_vocab)\n",
    "embedding_size = 25\n",
    "hidden_size    = 128  # The size of the hidden non-linear layer\n",
    "dropout_rate   = 0.2 # The dropout rate\n",
    "output_size    = 1    # This is just a single task, so this will be one\n",
    "\n",
    "learning_rate  = 0.01  # The initial learning rate for the optimizer\n",
    "lr_patience    = 10\n",
    "es_patience    = 50 # Make sure that the patience for early stopping is larger than the learning rate scheduler patience\n",
    "early_stopper  = EarlyStopping(min_delta=0.00001, patience = es_patience)"
   ]
  },
  {
   "cell_type": "markdown",
   "metadata": {},
   "source": [
    "### Using BCELoss"
   ]
  },
  {
   "cell_type": "code",
   "execution_count": 71,
   "metadata": {},
   "outputs": [
    {
     "name": "stdout",
     "output_type": "stream",
     "text": [
      "Layer : Embedding(37, 25)\n",
      "Parameters : \n",
      "weight : torch.Size([37, 25])\n",
      "\n",
      "Layer : LSTM(25, 128, batch_first=True)\n",
      "Parameters : \n",
      "weight_ih_l0 : torch.Size([512, 25])\n",
      "weight_hh_l0 : torch.Size([512, 128])\n",
      "bias_ih_l0 : torch.Size([512])\n",
      "bias_hh_l0 : torch.Size([512])\n",
      "\n",
      "Layer : Linear(in_features=128, out_features=128, bias=True)\n",
      "Parameters : \n",
      "weight : torch.Size([128, 128])\n",
      "bias : torch.Size([128])\n",
      "\n",
      "Layer : Linear(in_features=128, out_features=1, bias=True)\n",
      "Parameters : \n",
      "weight : torch.Size([1, 128])\n",
      "bias : torch.Size([1])\n",
      "\n",
      "Layer : ReLU()\n",
      "Parameters : \n",
      "\n",
      "Layer : Sigmoid()\n",
      "Parameters : \n",
      "\n",
      "Layer : Dropout(p=0.2, inplace=False)\n",
      "Parameters : \n",
      "\n",
      "Layer : Dropout(p=0.2, inplace=False)\n",
      "Parameters : \n",
      "\n",
      "Number tokens=37\n"
     ]
    }
   ],
   "source": [
    "criterion    = nn.BCELoss(reduction='mean') # De facto for binary classification\n",
    "threshold    = torch.tensor([0.5]).to(device) # Values above the threshold are classified into category pos_label (usually 1) # , and those below 0.5 are classified into value 0\n",
    "model        = ActivityNet(num_tokens, embedding_size, hidden_size, dropout_rate, output_size, squash_output=True).to(device=device) # Returns a Tensor with the specified device\n",
    "optimizer    = optim.Adadelta(model.parameters(), lr=learning_rate)\n",
    "# optimizer    = optim.SGD(model.parameters(), lr=learning_rate, momentum=0.9)\n",
    "# optimizer    = optim.Atom(model.parameters(), lr=learning_rate)\n",
    "\n",
    "# criterion = nn.BCEWithLogitsLoss()\n",
    "# threshold    = torch.tensor([0.0]).to(device) \n",
    "# model        = ActivityNet(num_tokens, embedding_size, hidden_size, dropout_rate, output_size, squash_output=False).to(device=device) # Returns a Tensor with the specified device\n",
    "# optimizer    = optim.Adadelta(model.parameters(), lr=learning_rate)\n",
    "# print(model)\n",
    "\n",
    "\n",
    "# https://pytorch.org/docs/stable/generated/torch.optim.lr_scheduler.ReduceLROnPlateau.html#torch.optim.lr_scheduler.ReduceLROnPlateau\n",
    "lr_scheduler = ReduceLROnPlateau(optimizer, mode='min', factor=0.5\n",
    "                                 , patience=lr_patience # Number of epochs with no improvement after which learning rate will be reduced\n",
    "                                 , verbose=True\n",
    "                                 , threshold=0.0001\n",
    "                                 , threshold_mode='rel', cooldown=0, min_lr=learning_rate, eps=1e-08)\n",
    "\n",
    "\n",
    "# # https://pytorch.org/docs/stable/generated/torch.optim.lr_scheduler.OneCycleLR.html#torch.optim.lr_scheduler.OneCycleLR\n",
    "# lr_scheduler = optim.lr_scheduler.OneCycleLR(optimizer=optimizer, max_lr = 0.004, total_steps = n_epochs*len(train_loader),\n",
    "#                       div_factor=25 # Determines the initial learning rate via initial_lr = max_lr/div_factor Default: 25\n",
    "#                      , final_div_factor=0.08)\n",
    "\n",
    "print(\"Number tokens={}\".format(model.num_tokens))\n",
    "# print(validation_dataset[0].__class__)\n",
    "# model.forward(validation_dataset[0][1])  #, model.forward(X_validation[10:11]), model #, [p for p in model.parameters()]"
   ]
  },
  {
   "cell_type": "code",
   "execution_count": 72,
   "metadata": {},
   "outputs": [
    {
     "name": "stderr",
     "output_type": "stream",
     "text": [
      "Training:   4%|▍         | 1/25 [00:00<00:12,  1.96it/s]"
     ]
    },
    {
     "name": "stdout",
     "output_type": "stream",
     "text": [
      "Epoch:   0 Training loss: 0.62 Validation loss: 0.66\n",
      "Epoch:   0 Training accuracy: 0.94 Validation accuracy: 0.65\n"
     ]
    },
    {
     "name": "stderr",
     "output_type": "stream",
     "text": [
      "Training:  44%|████▍     | 11/25 [00:04<00:05,  2.37it/s]"
     ]
    },
    {
     "name": "stdout",
     "output_type": "stream",
     "text": [
      "Epoch:  10 Training loss: 0.22 Validation loss: 1.04\n",
      "Epoch:  10 Training accuracy: 0.94 Validation accuracy: 0.65\n"
     ]
    },
    {
     "name": "stderr",
     "output_type": "stream",
     "text": [
      "Training:  84%|████████▍ | 21/25 [00:09<00:01,  2.34it/s]"
     ]
    },
    {
     "name": "stdout",
     "output_type": "stream",
     "text": [
      "Epoch:  20 Training loss: 0.22 Validation loss: 1.05\n",
      "Epoch:  20 Training accuracy: 0.94 Validation accuracy: 0.65\n"
     ]
    },
    {
     "name": "stderr",
     "output_type": "stream",
     "text": [
      "Training: 100%|██████████| 25/25 [00:10<00:00,  2.33it/s]"
     ]
    },
    {
     "name": "stdout",
     "output_type": "stream",
     "text": [
      "\n",
      "Saving loss and accuracy plots...\n"
     ]
    },
    {
     "name": "stderr",
     "output_type": "stream",
     "text": [
      "\n"
     ]
    },
    {
     "data": {
      "image/png": "[encoded data removed]",
      "text/plain": [
       "<Figure size 720x504 with 1 Axes>"
      ]
     },
     "metadata": {
      "needs_background": "light"
     },
     "output_type": "display_data"
    },
    {
     "data": {
      "image/png": "[encoded data removed]",
      "text/plain": [
       "<Figure size 720x504 with 1 Axes>"
      ]
     },
     "metadata": {
      "needs_background": "light"
     },
     "output_type": "display_data"
    },
    {
     "name": "stdout",
     "output_type": "stream",
     "text": [
      "CPU times: user 11 s, sys: 120 ms, total: 11.1 s\n",
      "Wall time: 11.1 s\n"
     ]
    },
    {
     "data": {
      "text/plain": [
       "0.6163707425896551"
      ]
     },
     "execution_count": 72,
     "metadata": {},
     "output_type": "execute_result"
    }
   ],
   "source": [
    "%%time\n",
    "train_losses, validation_losses, train_accuracies, validation_accuracies = train_model(model=model, criterion=criterion, optimizer=optimizer, n_epochs=n_epochs\n",
    "                                                                                     , train_loader=train_loader, validation_loader=validation_loader\n",
    "                                                                                     , lr_scheduler=lr_scheduler, early_stopper=None\n",
    "                                                                                     , pos_label=1, threshold=threshold)\n",
    "\n",
    "print('\\nSaving loss and accuracy plots...')\n",
    "# accuracy plots\n",
    "plt.figure(figsize=(10, 7))\n",
    "plt.plot(train_accuracies, color='green', label='train accuracy')\n",
    "plt.plot(validation_accuracies, color='blue', label='validataion accuracy')\n",
    "plt.xlabel('Epochs')\n",
    "plt.ylabel('Accuracy')\n",
    "# plt.legend()\n",
    "plt.savefig(\"{}/figures/Accuracies by epoch\".format(ROOT_DIR))\n",
    "plt.show()\n",
    "\n",
    "# loss plots\n",
    "plt.figure(figsize=(10, 7))\n",
    "plt.plot(train_losses, color='orange', label='train loss')\n",
    "plt.plot(validation_losses, color='red', label='validataion loss')\n",
    "# plt.plot([x for x in train_losses], color='orange', label='train loss')\n",
    "# plt.plot([x.to('cpu') for x in validation_losses], color='red', label='validataion loss')\n",
    "plt.xlabel('Epochs')\n",
    "plt.ylabel('Loss')\n",
    "plt.legend()\n",
    "plt.savefig(\"{}/figures/Losses by epoch\".format(ROOT_DIR))\n",
    "plt.show()\n",
    "\n",
    "# validation_losses[0].shape, len(validation_losses), train_losses[0].shape, len(train_losses)\n",
    "train_losses[0]"
   ]
  },
  {
   "cell_type": "markdown",
   "metadata": {},
   "source": [
    "**If the validation loss is generally smaller than the training loss, read the following post:**\n",
    ">[Why is my validation loss lower than my training loss?](https://pyimagesearch.com/2019/10/14/why-is-my-validation-loss-lower-than-my-training-loss/)\n"
   ]
  },
  {
   "cell_type": "code",
   "execution_count": 73,
   "metadata": {},
   "outputs": [
    {
     "name": "stdout",
     "output_type": "stream",
     "text": [
      "torch.Size([128, 37])\n",
      "torch.Size([128, 37])\n",
      "torch.Size([128, 37])\n",
      "torch.Size([128, 37])\n",
      "torch.Size([128, 37])\n",
      "torch.Size([128, 37])\n",
      "torch.Size([128, 37])\n",
      "torch.Size([128, 37])\n",
      "torch.Size([97, 37])\n"
     ]
    },
    {
     "data": {
      "text/plain": [
       "((1121,), (1121,))"
      ]
     },
     "execution_count": 73,
     "metadata": {},
     "output_type": "execute_result"
    }
   ],
   "source": [
    "from sklearn.metrics import accuracy_score\n",
    "import gc\n",
    "\n",
    "def MakePredictions(model, loader):\n",
    "    Y_shuffled, Y_preds = [], []\n",
    "    for X, Y in loader:\n",
    "        X = X.to(device)\n",
    "        Y = Y.to(device)\n",
    "        preds = model(X)\n",
    "        print(X.shape)\n",
    "        pred_classes = return_binary_class_labels(preds, threshold, pos_label=1).flatten()\n",
    "#         print(\"preds = {} | labels = {}\".format(pred_classes.shape, Y.shape))\n",
    "#         print(\"Y = {}\".format(Y))\n",
    "#         print(\"pred_classes = {}\".format(pred_classes))\n",
    "       \n",
    "        Y_preds.append(pred_classes)\n",
    "        Y_shuffled.append(Y)\n",
    "    gc.collect()\n",
    "    Y_preds, Y_shuffled = torch.cat(Y_preds), torch.cat(Y_shuffled)\n",
    "\n",
    "    return Y_shuffled.detach().to('cpu').numpy(), Y_preds.detach().to('cpu').numpy()\n",
    "Y_actual, Y_preds = MakePredictions(model, test_loader)\n",
    "Y_actual.shape, Y_preds.shape #, Y_actual, Y_preds"
   ]
  },
  {
   "cell_type": "code",
   "execution_count": 78,
   "metadata": {},
   "outputs": [
    {
     "name": "stdout",
     "output_type": "stream",
     "text": [
      "Test Accuracy : 0.6610169491525424\n",
      "\n",
      "Classification Report : \n",
      "              precision    recall  f1-score   support\n",
      "\n",
      "    Inactive       0.66      1.00      0.80       741\n",
      "      Active       0.00      0.00      0.00       380\n",
      "\n",
      "    accuracy                           0.66      1121\n",
      "   macro avg       0.33      0.50      0.40      1121\n",
      "weighted avg       0.44      0.66      0.53      1121\n",
      "\n",
      "\n",
      "Confusion Matrix : \n",
      "[[741   0]\n",
      " [380   0]]\n"
     ]
    },
    {
     "name": "stderr",
     "output_type": "stream",
     "text": [
      "Precision and F-score are ill-defined and being set to 0.0 in labels with no predicted samples. Use `zero_division` parameter to control this behavior.\n",
      "Precision and F-score are ill-defined and being set to 0.0 in labels with no predicted samples. Use `zero_division` parameter to control this behavior.\n",
      "Precision and F-score are ill-defined and being set to 0.0 in labels with no predicted samples. Use `zero_division` parameter to control this behavior.\n"
     ]
    }
   ],
   "source": [
    "from sklearn.metrics import accuracy_score, classification_report, confusion_matrix\n",
    "print(\"Test Accuracy : {}\".format(accuracy_score(Y_actual, Y_preds)))\n",
    "print(\"\\nClassification Report : \")\n",
    "print(classification_report(Y_actual, Y_preds, target_names=target_classes))\n",
    "print(\"\\nConfusion Matrix : \")\n",
    "print(confusion_matrix(Y_actual, Y_preds))"
   ]
  },
  {
   "cell_type": "code",
   "execution_count": 79,
   "metadata": {},
   "outputs": [
    {
     "data": {
      "image/png": "[encoded data removed]",
      "text/plain": [
       "<Figure size 360x360 with 2 Axes>"
      ]
     },
     "metadata": {
      "needs_background": "light"
     },
     "output_type": "display_data"
    }
   ],
   "source": [
    "from sklearn.metrics import confusion_matrix\n",
    "import scikitplot as skplt\n",
    "import matplotlib.pyplot as plt\n",
    "import numpy as np\n",
    "\n",
    "\n",
    "skplt.metrics.plot_confusion_matrix([target_classes[i] for i in Y_actual], [target_classes[i] for i in Y_preds],\n",
    "                                    normalize=True,\n",
    "                                    title=\"Confusion Matrix\",\n",
    "                                    cmap=\"Purples\",\n",
    "                                    hide_zeros=True,\n",
    "                                    figsize=(5,5)\n",
    "                                    );\n",
    "plt.xticks(rotation=90);"
   ]
  },
  {
   "cell_type": "markdown",
   "metadata": {},
   "source": [
    "#### Explain Predictions Using SHAP Values\n",
    "In this section, we have tried to explain predictions made by our network by generating **SHAP** values using shap python library. In order to use shap library, we need to import it and initialize it by calling **initjs()** function on it which we did at the beginning of the tutorial.\n",
    "\n",
    "In order to explain a prediction using SHAP values, we need to create **Explainer** first. Then, we need to give text examples that we want to explain to the explainer instance to create **Explanation** object (SHAP values). At last, we can call **text_plot()** method by giving SHAP values to it to visualize explanations created for text examples.\n",
    "\n",
    "Below, we have first created an explainer object. The explainer object requires us to provide a function that takes as an input batch of text examples and returns probabilities for each target class for the whole batch. We have created a simple function that takes as an input batch of text samples. It then tokenizes them and creates indexes for tokens using vocabulary. It then assures that each text sample has a length of ***max_tokens*** as required by our network. Then, it gives vectorized batch data to the network to make predictions. As our network returns logits, we have converted them to probabilities using **softmax** activation function. We have also given target class names when creating explainer instances.\n",
    "\n",
    "If you do not have a background on SHAP library then we suggest the below-mentioned tutorials that can be very helpful to learn it.\n",
    "> - [SHAP - Explain Machine Learning Model Predictions using Game-Theoretic Approach](https://coderzcolumn.com/tutorials/machine-learning/shap-explain-machine-learning-model-predictions-using-game-theoretic-approach)\n",
    "> - [SHAP Values for Text Classification Tasks (Keras NLP)](https://coderzcolumn.com/tutorials/artificial-intelligence/shap-values-for-text-classification-tasks)"
   ]
  },
  {
   "cell_type": "code",
   "execution_count": 80,
   "metadata": {},
   "outputs": [],
   "source": [
    "import re\n",
    "\n",
    "##https://shap.readthedocs.io/en/latest/example_notebooks/text_examples/sentiment_analysis/Using%20custom%20functions%20and%20tokenizers.html\n",
    "def custom_tokenizer(smiles, return_offsets_mapping=True):\n",
    "    \"\"\"\n",
    "    This is a tokenizer that will be passed to the shap explainer\n",
    "    \"\"\"\n",
    "    s = ' '.join(tokenize(smiles, tokenizer_type=TOKENIZER_TYPE, ngram=N_GRAM))\n",
    "#     print(\"\\ns={}\".format(s))\n",
    "    pattern = r'\\W'\n",
    "    matches = re.finditer(pattern, s)\n",
    "\n",
    "    pos = 0\n",
    "    offset_ranges = []\n",
    "    input_ids = []\n",
    "\n",
    "    for match in matches:\n",
    "    #     print(match)\n",
    "        start, end = match.span(0)\n",
    "        offset_ranges.append((pos, start))\n",
    "        input_ids.append(s[pos:start])\n",
    "        pos = end    \n",
    "#         print(\"start {} end {} offset_ranges {} input_ids {}\".format(start, end, offset_ranges, input_ids))\n",
    "    if pos != len(s):\n",
    "        offset_ranges.append((pos, len(s)))\n",
    "        input_ids.append(s[pos:])\n",
    "    # print(\"input_ids {}\".format(input_ids))\n",
    "    out = {}\n",
    "    out[\"input_ids\"] = input_ids\n",
    "\n",
    "    if return_offsets_mapping:\n",
    "        out[\"offset_mapping\"] = offset_ranges\n",
    "#     print(out)\n",
    "    return out\n",
    "\n",
    "# custom_tokenizer(\"CCCOCCCc1cnccn1\", return_offsets_mapping=True)"
   ]
  },
  {
   "cell_type": "code",
   "execution_count": 81,
   "metadata": {},
   "outputs": [
    {
     "data": {
      "text/plain": [
       "<shap.explainers._partition.Partition at 0x7fa57c431c50>"
      ]
     },
     "execution_count": 81,
     "metadata": {},
     "output_type": "execute_result"
    }
   ],
   "source": [
    "def make_predictions(X_batch_text):\n",
    "#     print(\"X_batch_text class = {}\".format(X_batch_text.__class__))\n",
    "#     X_batch = [vocab(tokenizer(sample)) for sample in X_batch_text]\n",
    "    X_batch = [tt_vocab(spe.tokenize(sample).split(' ')) for sample in X_batch_text]\n",
    "    X_batch = [sample+([0]* (max_tokens-len(sample))) if len(sample)<max_tokens else sample[:max_tokens] for sample in X_batch] ## Bringing all samples to max_tokens.\n",
    "    X_batch = torch.tensor(X_batch).to(device)\n",
    "    y_preds = model(X_batch)\n",
    "    return y_preds.detach().to('cpu')\n",
    "#     return return_binary_class_labels(y_preds, threshold, pos_label=1).flatten().detach().to('cpu')\n",
    "\n",
    "masker    = shap.maskers.Text(custom_tokenizer)\n",
    "explainer = shap.Explainer(make_predictions, masker=masker, output_names=target_classes)\n",
    "explainer"
   ]
  },
  {
   "cell_type": "code",
   "execution_count": 82,
   "metadata": {},
   "outputs": [
    {
     "name": "stdout",
     "output_type": "stream",
     "text": [
      "Actual    Target Values : ['Active', 'Inactive', 'Inactive', 'Active', 'Active', 'Inactive', 'Inactive', 'Inactive', 'Inactive', 'Inactive']\n",
      "Predicted Target Values : ['Inactive', 'Inactive', 'Inactive', 'Inactive', 'Inactive', 'Inactive', 'Inactive', 'Inactive', 'Inactive', 'Inactive']\n",
      "Predicted Probabilities : tensor([0.0556, 0.0556, 0.0556, 0.0556, 0.0556, 0.0556, 0.0556, 0.0556, 0.0556, 0.0556])\n"
     ]
    }
   ],
   "source": [
    "X_test, Y_test = [], []\n",
    "for Y, X in test_dataset: ## Selecting first 1024 samples from test data\n",
    "    X_test.append(X)\n",
    "    Y_test.append(Y) ## Please make a Note that we have subtracted 1 from target values to start index from 0 instead of 1.\n",
    "\n",
    "y_preds = make_predictions(X_test[10:20])\n",
    "preds = return_binary_class_labels(y_preds.to(device), threshold, pos_label=1)\n",
    "\n",
    "# print(\"y_preds = {}\".format(y_preds))\n",
    "print(\"Actual    Target Values : {}\".format([target_classes[target] for target in Y_test[10:20]]))\n",
    "print(\"Predicted Target Values : {}\".format([target_classes[target] for target in preds]))\n",
    "print(\"Predicted Probabilities : {}\".format(y_preds))"
   ]
  },
  {
   "cell_type": "code",
   "execution_count": 83,
   "metadata": {},
   "outputs": [
    {
     "ename": "AssertionError",
     "evalue": "You have passed a list for output_names but the model seems to not have multiple outputs!",
     "output_type": "error",
     "traceback": [
      "\u001b[0;31m---------------------------------------------------------------------------\u001b[0m",
      "\u001b[0;31mAssertionError\u001b[0m                            Traceback (most recent call last)",
      "\u001b[0;32m/tmp/ipykernel_784748/3331589336.py\u001b[0m in \u001b[0;36m<module>\u001b[0;34m\u001b[0m\n\u001b[1;32m      1\u001b[0m \u001b[0;31m# print(X_test[:10])\u001b[0m\u001b[0;34m\u001b[0m\u001b[0;34m\u001b[0m\u001b[0;34m\u001b[0m\u001b[0m\n\u001b[0;32m----> 2\u001b[0;31m \u001b[0mshap_values\u001b[0m \u001b[0;34m=\u001b[0m \u001b[0mexplainer\u001b[0m\u001b[0;34m(\u001b[0m\u001b[0mX_test\u001b[0m\u001b[0;34m[\u001b[0m\u001b[0;36m10\u001b[0m\u001b[0;34m:\u001b[0m\u001b[0;36m20\u001b[0m\u001b[0;34m]\u001b[0m\u001b[0;34m)\u001b[0m\u001b[0;34m\u001b[0m\u001b[0;34m\u001b[0m\u001b[0m\n\u001b[0m\u001b[1;32m      3\u001b[0m \u001b[0mshap\u001b[0m\u001b[0;34m.\u001b[0m\u001b[0mtext_plot\u001b[0m\u001b[0;34m(\u001b[0m\u001b[0mshap_values\u001b[0m\u001b[0;34m)\u001b[0m\u001b[0;34m\u001b[0m\u001b[0;34m\u001b[0m\u001b[0m\n",
      "\u001b[0;32m/home/jovyan/envs/tox_21_qsar_modeling/lib/python3.7/site-packages/shap/explainers/_partition.py\u001b[0m in \u001b[0;36m__call__\u001b[0;34m(self, max_evals, fixed_context, main_effects, error_bounds, batch_size, outputs, silent, *args)\u001b[0m\n\u001b[1;32m    135\u001b[0m         return super().__call__(\n\u001b[1;32m    136\u001b[0m             \u001b[0;34m*\u001b[0m\u001b[0margs\u001b[0m\u001b[0;34m,\u001b[0m \u001b[0mmax_evals\u001b[0m\u001b[0;34m=\u001b[0m\u001b[0mmax_evals\u001b[0m\u001b[0;34m,\u001b[0m \u001b[0mfixed_context\u001b[0m\u001b[0;34m=\u001b[0m\u001b[0mfixed_context\u001b[0m\u001b[0;34m,\u001b[0m \u001b[0mmain_effects\u001b[0m\u001b[0;34m=\u001b[0m\u001b[0mmain_effects\u001b[0m\u001b[0;34m,\u001b[0m \u001b[0merror_bounds\u001b[0m\u001b[0;34m=\u001b[0m\u001b[0merror_bounds\u001b[0m\u001b[0;34m,\u001b[0m \u001b[0mbatch_size\u001b[0m\u001b[0;34m=\u001b[0m\u001b[0mbatch_size\u001b[0m\u001b[0;34m,\u001b[0m\u001b[0;34m\u001b[0m\u001b[0;34m\u001b[0m\u001b[0m\n\u001b[0;32m--> 137\u001b[0;31m             \u001b[0moutputs\u001b[0m\u001b[0;34m=\u001b[0m\u001b[0moutputs\u001b[0m\u001b[0;34m,\u001b[0m \u001b[0msilent\u001b[0m\u001b[0;34m=\u001b[0m\u001b[0msilent\u001b[0m\u001b[0;34m\u001b[0m\u001b[0;34m\u001b[0m\u001b[0m\n\u001b[0m\u001b[1;32m    138\u001b[0m         )\n\u001b[1;32m    139\u001b[0m \u001b[0;34m\u001b[0m\u001b[0m\n",
      "\u001b[0;32m/home/jovyan/envs/tox_21_qsar_modeling/lib/python3.7/site-packages/shap/explainers/_explainer.py\u001b[0m in \u001b[0;36m__call__\u001b[0;34m(self, max_evals, main_effects, error_bounds, batch_size, outputs, silent, *args, **kwargs)\u001b[0m\n\u001b[1;32m    306\u001b[0m                 \u001b[0msliced_labels\u001b[0m \u001b[0;34m=\u001b[0m \u001b[0;32mNone\u001b[0m\u001b[0;34m\u001b[0m\u001b[0;34m\u001b[0m\u001b[0m\n\u001b[1;32m    307\u001b[0m         \u001b[0;32melse\u001b[0m\u001b[0;34m:\u001b[0m\u001b[0;34m\u001b[0m\u001b[0;34m\u001b[0m\u001b[0m\n\u001b[0;32m--> 308\u001b[0;31m             \u001b[0;32massert\u001b[0m \u001b[0moutput_indices\u001b[0m \u001b[0;32mis\u001b[0m \u001b[0;32mnot\u001b[0m \u001b[0;32mNone\u001b[0m\u001b[0;34m,\u001b[0m \u001b[0;34m\"You have passed a list for output_names but the model seems to not have multiple outputs!\"\u001b[0m\u001b[0;34m\u001b[0m\u001b[0;34m\u001b[0m\u001b[0m\n\u001b[0m\u001b[1;32m    309\u001b[0m             \u001b[0mlabels\u001b[0m \u001b[0;34m=\u001b[0m \u001b[0mnp\u001b[0m\u001b[0;34m.\u001b[0m\u001b[0marray\u001b[0m\u001b[0;34m(\u001b[0m\u001b[0mself\u001b[0m\u001b[0;34m.\u001b[0m\u001b[0moutput_names\u001b[0m\u001b[0;34m)\u001b[0m\u001b[0;34m\u001b[0m\u001b[0;34m\u001b[0m\u001b[0m\n\u001b[1;32m    310\u001b[0m             \u001b[0msliced_labels\u001b[0m \u001b[0;34m=\u001b[0m \u001b[0;34m[\u001b[0m\u001b[0mlabels\u001b[0m\u001b[0;34m[\u001b[0m\u001b[0mindex_list\u001b[0m\u001b[0;34m]\u001b[0m \u001b[0;32mfor\u001b[0m \u001b[0mindex_list\u001b[0m \u001b[0;32min\u001b[0m \u001b[0moutput_indices\u001b[0m\u001b[0;34m]\u001b[0m\u001b[0;34m\u001b[0m\u001b[0;34m\u001b[0m\u001b[0m\n",
      "\u001b[0;31mAssertionError\u001b[0m: You have passed a list for output_names but the model seems to not have multiple outputs!"
     ]
    }
   ],
   "source": [
    "# print(X_test[:10])\n",
    "shap_values = explainer(X_test[10:20])\n",
    "shap.text_plot(shap_values)"
   ]
  },
  {
   "cell_type": "markdown",
   "metadata": {},
   "source": [
    "## Using Average Word Embeddings\n",
    "In this section, we have used a little different approach compared to our previous two approaches. In the previous approach, we kept embeddings for all words/tokens of the text example by laying them next to each other, but in this section, we have taken the average of embeddings of all tokens/words per text example. The majority of the code is exactly the same as our previous sections with only a change in handling embedding.\\\n",
    "\n",
    "**Here are some good references about operations on word embeddings:**\n",
    "> - [Why is it Okay to Average Embeddings?](https://randorithms.com/2020/11/17/Adding-Embeddings.html)\n",
    "> - [Why does averaging word embedding vectors (exctracted from the NN embedding layer) work to represent sentences?](https://datascience.stackexchange.com/questions/107462/why-does-averaging-word-embedding-vectors-exctracted-from-the-nn-embedding-laye)\n",
    "> - [Word2vec Word Embedding Operations: Add, Concatenate or Average Word Vectors?](https://www.baeldung.com/cs/word2vec-word-embeddings)"
   ]
  },
  {
   "cell_type": "code",
   "execution_count": null,
   "metadata": {},
   "outputs": [],
   "source": [
    "class ActivityNet(nn.Module):\n",
    "    def __init__(self, num_tokens, embedding_size, hidden_size, dropout_rate, output_size, squash_output=True):\n",
    "        super(ActivityNet, self).__init__()\n",
    "        \n",
    "        self.num_tokens     = num_tokens          \n",
    "        self.hidden_size    = hidden_size\n",
    "        self.embedding_size = embedding_size\n",
    "        self.dropout_rate   = dropout_rate\n",
    "        self.output_size    = output_size\n",
    "#         self.proj_size = proj_size\n",
    "        self.squash_output  = squash_output\n",
    "    \n",
    "        # Embedding Layer - The embedding layer has shape [num_tokens, embedding_size]. This will create a weight of the same shape \n",
    "        # hence each word will be mapped to embedding_size embeddings (a float vector of length embedding_size). \n",
    "        # The embedding layer takes a number in the range [0, num_tokens] as input and maps each one to their respective embeddings (float vectors). \n",
    "# #         print(\"{} - {}\".format(self.num_tokens, self.embedding_size))\n",
    "#         self.embedding = nn.EmbeddingBag(num_embeddings=self.num_tokens, embedding_dim=self.embedding_size,mode=\"mean\")\n",
    "        self.embedding = nn.Embedding(num_embeddings=self.num_tokens, embedding_dim=self.embedding_size)\n",
    "        \n",
    "        \n",
    "        self.lstm = nn.LSTM(input_size=self.embedding_size, hidden_size=self.hidden_size, num_layers=1\n",
    "                            , batch_first=True # If True, then the input and output tensors are provided as (batch, seq, feature) instead of (seq, batch, feature).\n",
    "                            , bidirectional=False # If True, becomes a bidirectional LSTM.\n",
    "#                             , proj_size=self.proj_size # If > 0, will use LSTM with projections of corresponding size.\n",
    "                            )\n",
    "        self.h1 = nn.Linear(self.hidden_size, self.hidden_size)\n",
    "#         self.h2 = nn.Linear(hidden_size, hidden_size)\n",
    "#         self.h3 = nn.Linear(hidden_size, hidden_size)\n",
    "        self.output_layer = nn.Linear(self.hidden_size, self.output_size)\n",
    "      \n",
    "        # Activation\n",
    "        self.hl_activation = nn.ReLU()\n",
    "        if self.squash_output:\n",
    "            self.ol_activation = nn.Sigmoid()\n",
    "        \n",
    "        # Regularization\n",
    "        self.dropout1 = nn.Dropout(self.dropout_rate)\n",
    "        self.dropout2 = nn.Dropout(self.dropout_rate)\n",
    "#         self.dropout3 = nn.Dropout(self.dropout_rate)\n",
    "       \n",
    "    def forward(self, X):        \n",
    "#         print(\"X class = {}\".format(X.__class__))\n",
    "        embeddings = self.embedding(X)\n",
    "\n",
    "#         print(embeddings.shape)\n",
    "#         print(embeddings[0])\n",
    "        embeddings = embeddings.mean(dim=1, keepdim=True)  ## Averaging embeddings\n",
    "#         print(embeddings.shape)\n",
    "#         print(embeddings[0])\n",
    "#         print(\"\\n\")\n",
    "\n",
    "        output, (h_n, c_n) = self.lstm(embeddings)\n",
    "#         print(\"output:{} h_n:{} c_n:{}\".format(output.shape, h_n.shape, c_n.shape))\n",
    "        output = self.dropout1(h_n) #Dropout\n",
    "        output = self.h1(output) # Pass into the hidden layer\n",
    "        output = self.hl_activation(output) # Use ReLU on hidden activation\n",
    "        output = self.dropout2(output) # dropout\n",
    "        \n",
    "#         output = self.h2(output)\n",
    "#         output = self.hl_activation(output)\n",
    "#         output = self.dropout3(output)\n",
    "        output = self.output_layer(output)\n",
    "\n",
    "        if self.squash_output:\n",
    "            output = self.ol_activation(output)\n",
    "        \n",
    "        return output"
   ]
  },
  {
   "cell_type": "code",
   "execution_count": null,
   "metadata": {},
   "outputs": [],
   "source": [
    "def fit_model(model, criterion, optimizer, train_loader, pos_label=1, threshold=0.5):\n",
    "    \"\"\"\n",
    "    Fit the model, and compute loss and accuracy\n",
    "    \"\"\"\n",
    "    running_loss        = 0\n",
    "    num_samples         = 0\n",
    "    correct_predictions = 0\n",
    "    count = 0\n",
    "    model.train()\n",
    "    for smiles_rep, labels in train_loader:\n",
    "        smiles_rep = smiles_rep.to(device)\n",
    "        labels = labels.to(device)\n",
    "#         print(smiles_rep.shape)\n",
    "#         print(labels.shape)\n",
    "\n",
    "        # Training pass\n",
    "        # (1) Initialize the gradients, which will be recorded during the forward pass\n",
    "        optimizer.zero_grad()\n",
    "        # (2) Forward pass of the mini-batch\n",
    "        output = model(smiles_rep).flatten().float()\n",
    "#         print(\"Train output: {}\".format(output.shape))\n",
    "#         print(\"Train output: {}\".format(output.type()))\n",
    "#         print(\"Train output[:5]: {}\".format(output[:5]))\n",
    "\n",
    "        # (3) Computing the loss\n",
    "#         print(\"Labels size: {}\".format(labels.shape))\n",
    "#         print(\"Labels: {}\".format(labels.float().type()))\n",
    "#         print(\"Labels: {}\".format(labels[:5]))\n",
    "        loss = criterion(output, labels.float())\n",
    "#         print(\"Train Loss: {}\".format(loss))\n",
    "        # (4) Computes the gradient of current tensor w.r.t. graph leaves.\n",
    "        loss.backward()\n",
    "#         nn.utils.clip_grad_norm_(model.parameters(), 1)\n",
    "        # (5) Optimize the weights\n",
    "        optimizer.step()\n",
    "        \n",
    "        running_loss    += loss.item()          \n",
    "        num_samples     += labels.size()[0]\n",
    "        predicted_labels = return_binary_class_labels(output, threshold, pos_label)\n",
    "\n",
    "        correct_predictions += (predicted_labels == labels).sum().item()       \n",
    "\n",
    "    train_loss     = running_loss/len(train_loader)            \n",
    "    train_accuracy = correct_predictions/num_samples\n",
    "        \n",
    "    return  train_loss, train_accuracy\n",
    "\n",
    "\n",
    "def validate_model(model, criterion, optimizer, validation_loader, pos_label=1, threshold=0.5):\n",
    "    \"\"\"\n",
    "    \"\"\"\n",
    "    running_loss        = 0\n",
    "    num_val_samples     = 0\n",
    "    correct_predictions = 0\n",
    "    model.eval()\n",
    "    with torch.no_grad():\n",
    "        for smiles_rep, labels in validation_loader:\n",
    "            smiles_rep = smiles_rep.to(device)\n",
    "            labels = labels.to(device)\n",
    "            output = model(smiles_rep).flatten().float()\n",
    "            \n",
    "#             print(\"Validation output: {}\".format(output.shape))\n",
    "#             print(\"Validation: {}\".format(output.type()))\n",
    "#             print(\"Validation[:5]: {}\".format(output[:5]))              \n",
    "#             print(\"Labels: {}\".format(labels.float().type()))\n",
    "#             print(\"Validation Labels: {}\".format(labels[:5]))   \n",
    "\n",
    "            loss = criterion(output, labels.float())\n",
    "            running_loss     += loss\n",
    "               \n",
    "            num_val_samples  += labels.size()[0]\n",
    "            predicted_labels  = return_binary_class_labels(output, threshold, pos_label)\n",
    "#             print(\"Predicted labels ({}) : {}\".format(predicted_labels.shape, predicted_labels[:5]))\n",
    "#             print(\"Labels : {}\".format(labels[:5]))\n",
    "#             print(\"predicted_labels == labels : {}\".format((predicted_.flatten()).sum().item()\n",
    "            correct_predictions += (predicted_labels == labels).sum().item()    \n",
    "        validation_loss     = running_loss/len(validation_loader)\n",
    "#         validation_loss     = (running_loss/len(validation_loader)).to('cpu')            \n",
    "        validation_accuracy = correct_predictions/num_val_samples   \n",
    "        \n",
    "    return validation_loss, validation_accuracy\n",
    "\n",
    "\n",
    "def train_model(model, criterion, optimizer, n_epochs, train_loader, validation_loader, lr_scheduler=None, early_stopper=None, with_proba=True, pos_label=1, threshold=0.5):\n",
    "    \"\"\"\n",
    "    Fit and validate model\n",
    "    \"\"\"\n",
    "    train_losses, validation_losses, train_accuracies, validation_accuracies = [], [], [], []\n",
    "    for e in tqdm(range(n_epochs),desc='Training'):\n",
    "#         print(\"Epoch {} of {} epochs\".format(e+1, n_epochs))\n",
    "        train_loss, train_accuracy           = fit_model(model=model, criterion=criterion, optimizer=optimizer, train_loader=train_loader\n",
    "                                                         , pos_label=pos_label, threshold=threshold)\n",
    "        validation_loss, validation_accuracy = validate_model(model=model, criterion=criterion, optimizer=optimizer, validation_loader=validation_loader\n",
    "                                                              , pos_label=pos_label, threshold=threshold)\n",
    "        \n",
    "        train_losses.append(train_loss)\n",
    "        validation_losses.append(validation_loss.item())\n",
    "        train_accuracies.append(train_accuracy)\n",
    "        validation_accuracies.append(validation_accuracy)\n",
    "        \n",
    "        if lr_scheduler is not None:\n",
    "            lr_scheduler.step(validation_loss)\n",
    "            \n",
    "        if early_stopper is not None:\n",
    "            early_stopper(validation_loss)\n",
    "            if early_stopper.early_stop:\n",
    "                break\n",
    "        \n",
    "        if e%10 == 0:\n",
    "            print(\"Epoch: %3i Training loss: %0.2F Validation loss: %0.2F\"%(e,(train_loss), validation_loss))\n",
    "            print(\"Epoch: %3i Training accuracy: %0.2F Validation accuracy: %0.2F\"%(e,(train_accuracy), validation_accuracy))\n",
    "    \n",
    "    return train_losses, validation_losses, train_accuracies, validation_accuracies\n"
   ]
  },
  {
   "cell_type": "code",
   "execution_count": null,
   "metadata": {},
   "outputs": [],
   "source": [
    "max_tokens=50\n",
    "# copied from https://coderzcolumn.com/tutorials/artificial-intelligence/word-embeddings-for-pytorch-text-classification-networks\n",
    "def vectorize_batch(batch):\n",
    "    Y, X = list(zip(*batch))\n",
    "    X = [tt_vocab(spe.tokenize(sample).split(' ')) for sample in X]\n",
    "#     print(len(X))\n",
    "#     print(Y.__class__)\n",
    "#     print(Y)\n",
    "    X = [sample+([0]* (max_tokens-len(sample))) if len(sample)<max_tokens else sample[:max_tokens] for sample in X] ## Bringing all samples to max_tokens length.\n",
    "    return torch.tensor(X), torch.tensor(Y) ## We have deducted 1 from target names to get them in range [0,1,2,3,5] from [1,2,3,4,5]\n",
    "\n",
    "train_dataset      = SMILESMolDataset(smiles=train_aug[smiles_column].values, target=train_aug[target].values)\n",
    "validation_dataset = SMILESMolDataset(smiles=validation_aug[smiles_column].values, target=validation_aug[target].values)\n",
    "test_dataset       = SMILESMolDataset(smiles=test_aug[smiles_column].values, target=test_aug[target].values)\n",
    "\n",
    "train_loader = DataLoader(train_dataset, batch_size=64, collate_fn=vectorize_batch)\n",
    "validation_loader  = DataLoader(validation_dataset, batch_size=64, collate_fn=vectorize_batch)\n",
    "test_loader  = DataLoader(test_dataset, batch_size=64, collate_fn=vectorize_batch)\n",
    "\n",
    "# print(\"TRAIN ------------\")\n",
    "# for X, Y in train_loader:\n",
    "#     print(X)\n",
    "#     print(Y)\n",
    "#     break\n",
    "# print(\"\\nVALIDATION ------------\")\n",
    "# for X, Y in validation_loader:\n",
    "#     print(X)\n",
    "#     print(Y)\n",
    "#     break\n",
    "# print(\"\\nTEST ------------\")\n",
    "# for X, Y in test_loader:\n",
    "#     print(X)\n",
    "#     print(Y)\n",
    "#     break"
   ]
  },
  {
   "cell_type": "code",
   "execution_count": null,
   "metadata": {},
   "outputs": [],
   "source": [
    "# t = torch.tensor([ 0.0401,  0.3728,  0.8811,  0.1067, -0.4404, -1.6970, -1.6379,  0.4634, -0.0870\n",
    "#                   ,  1.0152,  0.4510, -0.2229, 0.3448, -0.1875, -0.6355, -1.0281, -0.6180\n",
    "#                   ,  0.1820,  0.7179, -0.3506,  1.0886,  1.0709, -0.4945, -0.4642, 0.3469])\n",
    "\n",
    "# t.size(), t.view(25,1)"
   ]
  },
  {
   "cell_type": "code",
   "execution_count": null,
   "metadata": {},
   "outputs": [],
   "source": [
    "%%time\n",
    "embedding_size = 40\n",
    "model        = ActivityNet(num_tokens, embedding_size, hidden_size, dropout_rate, output_size, squash_output=True).to(device=device) # Returns a Tensor with the specified device\n",
    "\n",
    "train_losses, validation_losses, train_accuracies, validation_accuracies = train_model(model=model, criterion=criterion, optimizer=optimizer, n_epochs=n_epochs\n",
    "                                                                                     , train_loader=train_loader, validation_loader=validation_loader\n",
    "                                                                                     , lr_scheduler=lr_scheduler, early_stopper=None\n",
    "                                                                                     , pos_label=1, threshold=threshold)\n",
    "\n",
    "print('\\nSaving loss and accuracy plots...')\n",
    "# accuracy plots\n",
    "plt.figure(figsize=(10, 7))\n",
    "plt.plot(train_accuracies, color='green', label='train accuracy')\n",
    "plt.plot(validation_accuracies, color='blue', label='validataion accuracy')\n",
    "plt.xlabel('Epochs')\n",
    "plt.ylabel('Accuracy')\n",
    "# plt.legend()\n",
    "plt.savefig(\"{}/figures/Accuracies by epoch\".format(ROOT_DIR))\n",
    "plt.show()\n",
    "\n",
    "# loss plots\n",
    "plt.figure(figsize=(10, 7))\n",
    "plt.plot(train_losses, color='orange', label='train loss')\n",
    "plt.plot(validation_losses, color='red', label='validataion loss')\n",
    "# plt.plot([x for x in train_losses], color='orange', label='train loss')\n",
    "# plt.plot([x.to('cpu') for x in validation_losses], color='red', label='validataion loss')\n",
    "plt.xlabel('Epochs')\n",
    "plt.ylabel('Loss')\n",
    "plt.legend()\n",
    "plt.savefig(\"{}/figures/Losses by epoch\".format(ROOT_DIR))\n",
    "plt.show()\n",
    "\n",
    "# validation_losses[0].shape, len(validation_losses), train_losses[0].shape, len(train_losses)\n",
    "train_losses[0]"
   ]
  },
  {
   "cell_type": "markdown",
   "metadata": {},
   "source": [
    "**If the validation loss is generally smaller than the training loss, read the following post:**\n",
    ">[Why is my validation loss lower than my training loss?](https://pyimagesearch.com/2019/10/14/why-is-my-validation-loss-lower-than-my-training-loss/)\n"
   ]
  },
  {
   "cell_type": "code",
   "execution_count": null,
   "metadata": {},
   "outputs": [],
   "source": [
    "from sklearn.metrics import accuracy_score\n",
    "import gc\n",
    "\n",
    "def MakePredictions(model, loader):\n",
    "    Y_shuffled, Y_preds = [], []\n",
    "    for X, Y in loader:\n",
    "        X = X.to(device)\n",
    "        Y = Y.to(device)\n",
    "        preds = model(X)[0]\n",
    "        pred_classes = return_binary_class_labels(preds, threshold, pos_label=1).flatten()\n",
    "#         print(\"preds = {} | labels = {}\".format(pred_classes.shape, Y.shape))\n",
    "#         print(\"Y = {}\".format(Y))\n",
    "#         print(\"pred_classes = {}\".format(pred_classes))\n",
    "       \n",
    "        Y_preds.append(pred_classes)\n",
    "        Y_shuffled.append(Y)\n",
    "    gc.collect()\n",
    "    Y_preds, Y_shuffled = torch.cat(Y_preds), torch.cat(Y_shuffled)\n",
    "\n",
    "    return Y_shuffled.detach().to('cpu').numpy(), Y_preds.detach().to('cpu').numpy()\n",
    "Y_actual, Y_preds = MakePredictions(model, test_loader)\n",
    "Y_actual.shape, Y_preds.shape #, Y_actual, Y_preds"
   ]
  },
  {
   "cell_type": "code",
   "execution_count": null,
   "metadata": {},
   "outputs": [],
   "source": [
    "from sklearn.metrics import accuracy_score, classification_report, confusion_matrix\n",
    "target_classes=['Inactive','Active']\n",
    "print(\"Test Accuracy : {}\".format(accuracy_score(Y_actual, Y_preds)))\n",
    "print(\"\\nClassification Report : \")\n",
    "print(classification_report(Y_actual, Y_preds, target_names=target_classes))\n",
    "print(\"\\nConfusion Matrix : \")\n",
    "print(confusion_matrix(Y_actual, Y_preds))"
   ]
  },
  {
   "cell_type": "code",
   "execution_count": null,
   "metadata": {},
   "outputs": [],
   "source": [
    "from sklearn.metrics import confusion_matrix\n",
    "import scikitplot as skplt\n",
    "import matplotlib.pyplot as plt\n",
    "import numpy as np\n",
    "\n",
    "\n",
    "skplt.metrics.plot_confusion_matrix([target_classes[i] for i in Y_actual], [target_classes[i] for i in Y_preds],\n",
    "                                    normalize=True,\n",
    "                                    title=\"Confusion Matrix\",\n",
    "                                    cmap=\"Purples\",\n",
    "                                    hide_zeros=True,\n",
    "                                    figsize=(5,5)\n",
    "                                    );\n",
    "plt.xticks(rotation=90);"
   ]
  },
  {
   "cell_type": "markdown",
   "metadata": {},
   "source": [
    "#### Explain Predictions Using SHAP Values\n",
    "In this section, we have tried to explain predictions made by our network by generating **SHAP** values using shap python library. In order to use shap library, we need to import it and initialize it by calling **initjs()** function on it which we did at the beginning of the tutorial.\n",
    "\n",
    "In order to explain a prediction using SHAP values, we need to create **Explainer** first. Then, we need to give text examples that we want to explain to the explainer instance to create **Explanation** object (SHAP values). At last, we can call **text_plot()** method by giving SHAP values to it to visualize explanations created for text examples.\n",
    "\n",
    "Below, we have first created an explainer object. The explainer object requires us to provide a function that takes as an input batch of text examples and returns probabilities for each target class for the whole batch. We have created a simple function that takes as an input batch of text samples. It then tokenizes them and creates indexes for tokens using vocabulary. It then assures that each text sample has a length of ***max_tokens*** as required by our network. Then, it gives vectorized batch data to the network to make predictions. As our network returns logits, we have converted them to probabilities using **softmax** activation function. We have also given target class names when creating explainer instances.\n",
    "\n",
    "If you do not have a background on SHAP library then we suggest the below-mentioned tutorials that can be very helpful to learn it.\n",
    "> - [SHAP - Explain Machine Learning Model Predictions using Game-Theoretic Approach](https://coderzcolumn.com/tutorials/machine-learning/shap-explain-machine-learning-model-predictions-using-game-theoretic-approach)\n",
    "> - [SHAP Values for Text Classification Tasks (Keras NLP)](https://coderzcolumn.com/tutorials/artificial-intelligence/shap-values-for-text-classification-tasks)"
   ]
  },
  {
   "cell_type": "code",
   "execution_count": null,
   "metadata": {},
   "outputs": [],
   "source": [
    "X_test, Y_test = [], []\n",
    "for Y, X in test_dataset: ## Selecting first 1024 samples from test data\n",
    "    X_test.append(X)\n",
    "    Y_test.append(Y) ## Please make a Note that we have subtracted 1 from target values to start index from 0 instead of 1.\n",
    "\n",
    "y_preds = make_predictions(X_test[:10])\n",
    "preds = return_binary_class_labels(y_preds.to(device), threshold, pos_label=1).flatten()\n",
    "\n",
    "# print(\"y_preds = {}\".format(y_preds))\n",
    "print(\"Actual    Target Values : {}\".format([target_classes[target] for target in Y_test[:10]]))\n",
    "print(\"Predicted Target Values : {}\".format([target_classes[target] for target in preds]))\n",
    "print(\"Predicted Probabilities : {}\".format([round(x.item(),3) for x in y_preds.flatten()]))"
   ]
  },
  {
   "cell_type": "code",
   "execution_count": null,
   "metadata": {},
   "outputs": [],
   "source": [
    "print(X_test[:10])\n",
    "shap_values = explainer(X_test[:10])\n",
    "shap.text_plot(shap_values)"
   ]
  },
  {
   "cell_type": "code",
   "execution_count": null,
   "metadata": {},
   "outputs": [],
   "source": []
  },
  {
   "cell_type": "code",
   "execution_count": null,
   "metadata": {},
   "outputs": [],
   "source": []
  },
  {
   "cell_type": "markdown",
   "metadata": {},
   "source": [
    "## Using EmbeddingBag Layer (Averaged Embeddings)\n",
    "Our approach in this section is almost the same as our approach from the previous section with the only difference that we have implemented the approach using **EmbeddingBag** layer. We have again averaged embeddings of text examples."
   ]
  },
  {
   "cell_type": "code",
   "execution_count": null,
   "metadata": {},
   "outputs": [],
   "source": [
    "class ActivityNet(nn.Module):\n",
    "    def __init__(self, num_tokens, embedding_size, hidden_size, dropout_rate, output_size, squash_output=True):\n",
    "        super(ActivityNet, self).__init__()\n",
    "        \n",
    "        self.num_tokens     = num_tokens          \n",
    "        self.hidden_size    = hidden_size\n",
    "        self.embedding_size = embedding_size\n",
    "        self.dropout_rate   = dropout_rate\n",
    "        self.output_size    = output_size\n",
    "#         self.proj_size = proj_size\n",
    "        self.squash_output  = squash_output\n",
    "    \n",
    "        # Embedding Layer - The embedding layer has shape [num_tokens, embedding_size]. This will create a weight of the same shape \n",
    "        # hence each word will be mapped to embedding_size embeddings (a float vector of length embedding_size). \n",
    "        # The embedding layer takes a number in the range [0, num_tokens] as input and maps each one to their respective embeddings (float vectors). \n",
    "# #         print(\"{} - {}\".format(self.num_tokens, self.embedding_size))\n",
    "        self.embedding = nn.EmbeddingBag(num_embeddings=self.num_tokens, embedding_dim=self.embedding_size,mode=\"sum\")\n",
    "#         self.embedding = nn.Embedding(num_embeddings=self.num_tokens, embedding_dim=self.embedding_size)\n",
    "        \n",
    "        \n",
    "        self.lstm = nn.LSTM(input_size=self.embedding_size, hidden_size=self.hidden_size, num_layers=1\n",
    "                            , batch_first=True # If True, then the input and output tensors are provided as (batch, seq, feature) instead of (seq, batch, feature).\n",
    "                            , bidirectional=False # If True, becomes a bidirectional LSTM.\n",
    "#                             , proj_size=self.proj_size # If > 0, will use LSTM with projections of corresponding size.\n",
    "                            )\n",
    "        self.h1 = nn.Linear(self.hidden_size, self.hidden_size)\n",
    "#         self.h2 = nn.Linear(hidden_size, hidden_size)\n",
    "#         self.h3 = nn.Linear(hidden_size, hidden_size)\n",
    "        self.output_layer = nn.Linear(self.hidden_size, self.output_size)\n",
    "      \n",
    "        # Activation\n",
    "        self.hl_activation = nn.ReLU()\n",
    "        if self.squash_output:\n",
    "            self.ol_activation = nn.Sigmoid()\n",
    "        \n",
    "        # Regularization\n",
    "        self.dropout1 = nn.Dropout(self.dropout_rate)\n",
    "        self.dropout2 = nn.Dropout(self.dropout_rate)\n",
    "#         self.dropout3 = nn.Dropout(self.dropout_rate)\n",
    "       \n",
    "    def forward(self, X):        \n",
    "#         print(\"X class = {}\".format(X.__class__))\n",
    "        embeddings = self.embedding(X)\n",
    "\n",
    "#         print(embeddings.shape)\n",
    "#         print(embeddings[0])\n",
    "        embeddings=embeddings.view(embeddings.shape[0],1,embeddings.shape[1])\n",
    "#         print(bla)\n",
    "#         print(bla.shape)\n",
    "#         embeddings = embeddings.mean(dim=1, keepdim=True)  ## Averaging embeddings\n",
    "#         print(embeddings.shape)\n",
    "#         print(embeddings[0])\n",
    "#         print(\"\\n\")\n",
    "        \n",
    "#         print(self.lstm(embeddings))\n",
    "        output, (h_n, c_n) = self.lstm(embeddings)\n",
    "#         print(\"output:{} h_n:{} c_n:{}\".format(output.shape, h_n.shape, c_n.shape))\n",
    "#         print(self.dropout1)\n",
    "        output = self.dropout1(h_n) #Dropout\n",
    "        output = self.h1(output) # Pass into the hidden layer\n",
    "        output = self.hl_activation(output) # Use ReLU on hidden activation\n",
    "        output = self.dropout2(output) # dropout\n",
    "        \n",
    "#         output = self.h2(output)\n",
    "#         output = self.hl_activation(output)\n",
    "#         output = self.dropout3(output)\n",
    "        output = self.output_layer(output)\n",
    "\n",
    "        if self.squash_output:\n",
    "            output = self.ol_activation(output)\n",
    "        \n",
    "        return output"
   ]
  },
  {
   "cell_type": "code",
   "execution_count": null,
   "metadata": {},
   "outputs": [],
   "source": [
    "def fit_model(model, criterion, optimizer, train_loader, pos_label=1, threshold=0.5):\n",
    "    \"\"\"\n",
    "    Fit the model, and compute loss and accuracy\n",
    "    \"\"\"\n",
    "    running_loss        = 0\n",
    "    num_samples         = 0\n",
    "    correct_predictions = 0\n",
    "    count = 0\n",
    "    model.train()\n",
    "    for smiles_rep, labels in train_loader:\n",
    "        smiles_rep = smiles_rep.to(device)\n",
    "        labels = labels.to(device)\n",
    "#         print(smiles_rep.shape)\n",
    "#         print(labels.shape)\n",
    "\n",
    "        # Training pass\n",
    "        # (1) Initialize the gradients, which will be recorded during the forward pass\n",
    "        optimizer.zero_grad()\n",
    "        # (2) Forward pass of the mini-batch\n",
    "        output = model(smiles_rep).flatten().float()\n",
    "#         print(\"Train output: {}\".format(output.shape))\n",
    "#         print(\"Train output: {}\".format(output.type()))\n",
    "#         print(\"Train output[:5]: {}\".format(output[:5]))\n",
    "\n",
    "        # (3) Computing the loss\n",
    "#         print(\"Labels size: {}\".format(labels.shape))\n",
    "#         print(\"Labels: {}\".format(labels.float().type()))\n",
    "#         print(\"Labels: {}\".format(labels[:5]))\n",
    "        loss = criterion(output, labels.float())\n",
    "#         print(\"Train Loss: {}\".format(loss))\n",
    "        # (4) Computes the gradient of current tensor w.r.t. graph leaves.\n",
    "        loss.backward()\n",
    "#         nn.utils.clip_grad_norm_(model.parameters(), 1)\n",
    "        # (5) Optimize the weights\n",
    "        optimizer.step()\n",
    "        \n",
    "        running_loss    += loss.item()          \n",
    "        num_samples     += labels.size()[0]\n",
    "        predicted_labels = return_binary_class_labels(output, threshold, pos_label)\n",
    "\n",
    "        correct_predictions += (predicted_labels == labels).sum().item()       \n",
    "\n",
    "    train_loss     = running_loss/len(train_loader)            \n",
    "    train_accuracy = correct_predictions/num_samples\n",
    "        \n",
    "    return  train_loss, train_accuracy\n",
    "\n",
    "\n",
    "def validate_model(model, criterion, optimizer, validation_loader, pos_label=1, threshold=0.5):\n",
    "    \"\"\"\n",
    "    \"\"\"\n",
    "    running_loss        = 0\n",
    "    num_val_samples     = 0\n",
    "    correct_predictions = 0\n",
    "    model.eval()\n",
    "    with torch.no_grad():\n",
    "        for smiles_rep, labels in validation_loader:\n",
    "            smiles_rep = smiles_rep.to(device)\n",
    "            labels = labels.to(device)\n",
    "            output = model(smiles_rep).flatten().float()\n",
    "            \n",
    "#             print(\"Validation output: {}\".format(output.shape))\n",
    "#             print(\"Validation: {}\".format(output.type()))\n",
    "#             print(\"Validation[:5]: {}\".format(output[:5]))              \n",
    "#             print(\"Labels: {}\".format(labels.float().type()))\n",
    "#             print(\"Labels: {}\".format(labels[:5]))   \n",
    "\n",
    "            loss = criterion(output, labels.float())\n",
    "            running_loss     += loss\n",
    "               \n",
    "            num_val_samples  += labels.size()[0]\n",
    "            predicted_labels  = return_binary_class_labels(output, threshold, pos_label)\n",
    "#             print(\"Predicted labels ({}) : {}\".format(predicted_labels.shape, predicted_labels[:5]))\n",
    "#             print(\"Labels : {}\".format(labels[:5]))\n",
    "#             print(\"predicted_labels == labels : {}\".format((predicted_.flatten()).sum().item()\n",
    "            correct_predictions += (predicted_labels == labels).sum().item()    \n",
    "        validation_loss     = running_loss/len(validation_loader)\n",
    "#         validation_loss     = (running_loss/len(validation_loader)).to('cpu')            \n",
    "        validation_accuracy = correct_predictions/num_val_samples   \n",
    "        \n",
    "    return validation_loss, validation_accuracy\n",
    "\n",
    "\n",
    "def train_model(model, criterion, optimizer, n_epochs, train_loader, validation_loader, lr_scheduler=None, early_stopper=None, with_proba=True, pos_label=1, threshold=0.5):\n",
    "    \"\"\"\n",
    "    Fit and validate model\n",
    "    \"\"\"\n",
    "    train_losses, validation_losses, train_accuracies, validation_accuracies = [], [], [], []\n",
    "    for e in tqdm(range(n_epochs),desc='Training'):\n",
    "#         print(\"Epoch {} of {} epochs\".format(e+1, n_epochs))\n",
    "        train_loss, train_accuracy           = fit_model(model=model, criterion=criterion, optimizer=optimizer, train_loader=train_loader\n",
    "                                                         , pos_label=pos_label, threshold=threshold)\n",
    "        validation_loss, validation_accuracy = validate_model(model=model, criterion=criterion, optimizer=optimizer, validation_loader=validation_loader\n",
    "                                                              , pos_label=pos_label, threshold=threshold)\n",
    "        \n",
    "        train_losses.append(train_loss)\n",
    "        validation_losses.append(validation_loss.item())\n",
    "        train_accuracies.append(train_accuracy)\n",
    "        validation_accuracies.append(validation_accuracy)\n",
    "        \n",
    "        if lr_scheduler is not None:\n",
    "            lr_scheduler.step(validation_loss)\n",
    "            \n",
    "        if early_stopper is not None:\n",
    "            early_stopper(validation_loss)\n",
    "            if early_stopper.early_stop:\n",
    "                break\n",
    "        \n",
    "        if e%10 == 0:\n",
    "            print(\"Epoch: %3i Training loss: %0.2F Validation loss: %0.2F\"%(e,(train_loss), validation_loss))\n",
    "            print(\"Epoch: %3i Training accuracy: %0.2F Validation accuracy: %0.2F\"%(e,(train_accuracy), validation_accuracy))\n",
    "    \n",
    "    return train_losses, validation_losses, train_accuracies, validation_accuracies\n"
   ]
  },
  {
   "cell_type": "code",
   "execution_count": null,
   "metadata": {},
   "outputs": [],
   "source": [
    "%%time\n",
    "embedding_size = 40\n",
    "model        = ActivityNet(num_tokens, embedding_size, hidden_size, dropout_rate, output_size, squash_output=False).to(device=device) # Returns a Tensor with the specified device\n",
    "\n",
    "train_losses, validation_losses, train_accuracies, validation_accuracies = train_model(model=model, criterion=criterion, optimizer=optimizer, n_epochs=n_epochs\n",
    "                                                                                     , train_loader=train_loader, validation_loader=validation_loader\n",
    "                                                                                     , lr_scheduler=lr_scheduler, early_stopper=None\n",
    "                                                                                     , pos_label=1, threshold=threshold)\n",
    "\n",
    "print('\\nSaving loss and accuracy plots...')\n",
    "# accuracy plots\n",
    "plt.figure(figsize=(10, 7))\n",
    "plt.plot(train_accuracies, color='green', label='train accuracy')\n",
    "plt.plot(validation_accuracies, color='blue', label='validataion accuracy')\n",
    "plt.xlabel('Epochs')\n",
    "plt.ylabel('Accuracy')\n",
    "# plt.legend()\n",
    "plt.savefig(\"{}/figures/Accuracies by epoch\".format(ROOT_DIR))\n",
    "plt.show()\n",
    "\n",
    "# loss plots\n",
    "plt.figure(figsize=(10, 7))\n",
    "plt.plot(train_losses, color='orange', label='train loss')\n",
    "plt.plot(validation_losses, color='red', label='validataion loss')\n",
    "# plt.plot([x for x in train_losses], color='orange', label='train loss')\n",
    "# plt.plot([x.to('cpu') for x in validation_losses], color='red', label='validataion loss')\n",
    "plt.xlabel('Epochs')\n",
    "plt.ylabel('Loss')\n",
    "plt.legend()\n",
    "plt.savefig(\"{}/figures/Losses by epoch\".format(ROOT_DIR))\n",
    "plt.show()\n",
    "\n",
    "# validation_losses[0].shape, len(validation_losses), train_losses[0].shape, len(train_losses)\n",
    "train_losses[0]"
   ]
  },
  {
   "cell_type": "code",
   "execution_count": null,
   "metadata": {},
   "outputs": [],
   "source": [
    "from sklearn.metrics import accuracy_score, classification_report, confusion_matrix\n",
    "target_classes=['Inactive','Active']\n",
    "print(\"Test Accuracy : {}\".format(accuracy_score(Y_actual, Y_preds)))\n",
    "print(\"\\nClassification Report : \")\n",
    "print(classification_report(Y_actual, Y_preds, target_names=target_classes))\n",
    "print(\"\\nConfusion Matrix : \")\n",
    "print(confusion_matrix(Y_actual, Y_preds))"
   ]
  },
  {
   "cell_type": "code",
   "execution_count": null,
   "metadata": {},
   "outputs": [],
   "source": [
    "from sklearn.metrics import confusion_matrix\n",
    "import scikitplot as skplt\n",
    "import matplotlib.pyplot as plt\n",
    "import numpy as np\n",
    "\n",
    "\n",
    "skplt.metrics.plot_confusion_matrix([target_classes[i] for i in Y_actual], [target_classes[i] for i in Y_preds],\n",
    "                                    normalize=True,\n",
    "                                    title=\"Confusion Matrix\",\n",
    "                                    cmap=\"Purples\",\n",
    "                                    hide_zeros=True,\n",
    "                                    figsize=(5,5)\n",
    "                                    );\n",
    "plt.xticks(rotation=90);"
   ]
  },
  {
   "cell_type": "markdown",
   "metadata": {},
   "source": [
    "#### Explain Predictions Using SHAP Values\n",
    "In this section, we have tried to explain predictions made by our network by generating **SHAP** values using shap python library. In order to use shap library, we need to import it and initialize it by calling **initjs()** function on it which we did at the beginning of the tutorial.\n",
    "\n",
    "In order to explain a prediction using SHAP values, we need to create **Explainer** first. Then, we need to give text examples that we want to explain to the explainer instance to create **Explanation** object (SHAP values). At last, we can call **text_plot()** method by giving SHAP values to it to visualize explanations created for text examples.\n",
    "\n",
    "Below, we have first created an explainer object. The explainer object requires us to provide a function that takes as an input batch of text examples and returns probabilities for each target class for the whole batch. We have created a simple function that takes as an input batch of text samples. It then tokenizes them and creates indexes for tokens using vocabulary. It then assures that each text sample has a length of ***max_tokens*** as required by our network. Then, it gives vectorized batch data to the network to make predictions. As our network returns logits, we have converted them to probabilities using **softmax** activation function. We have also given target class names when creating explainer instances.\n",
    "\n",
    "If you do not have a background on SHAP library then we suggest the below-mentioned tutorials that can be very helpful to learn it.\n",
    "> - [SHAP - Explain Machine Learning Model Predictions using Game-Theoretic Approach](https://coderzcolumn.com/tutorials/machine-learning/shap-explain-machine-learning-model-predictions-using-game-theoretic-approach)\n",
    "> - [SHAP Values for Text Classification Tasks (Keras NLP)](https://coderzcolumn.com/tutorials/artificial-intelligence/shap-values-for-text-classification-tasks)"
   ]
  },
  {
   "cell_type": "code",
   "execution_count": null,
   "metadata": {},
   "outputs": [],
   "source": [
    "X_test, Y_test = [], []\n",
    "for Y, X in test_dataset: ## Selecting first 1024 samples from test data\n",
    "    X_test.append(X)\n",
    "    Y_test.append(Y) ## Please make a Note that we have subtracted 1 from target values to start index from 0 instead of 1.\n",
    "\n",
    "y_preds = make_predictions(X_test[:10])\n",
    "preds = return_binary_class_labels(y_preds.to(device), threshold, pos_label=1).flatten()\n",
    "\n",
    "# print(\"y_preds = {}\".format(y_preds))\n",
    "print(\"Actual    Target Values : {}\".format([target_classes[target] for target in Y_test[:10]]))\n",
    "print(\"Predicted Target Values : {}\".format([target_classes[target] for target in preds]))\n",
    "print(\"Predicted Probabilities : {}\".format([round(x.item(),3) for x in y_preds.flatten()]))"
   ]
  },
  {
   "cell_type": "code",
   "execution_count": null,
   "metadata": {},
   "outputs": [],
   "source": [
    "print(X_test[:10])\n",
    "shap_values = explainer(X_test[:10])\n",
    "shap.text_plot(shap_values)"
   ]
  }
 ],
 "metadata": {
  "kernelspec": {
   "display_name": "Python [conda env:jovyan-tox_21_qsar_modeling]",
   "language": "python",
   "name": "conda-env-jovyan-tox_21_qsar_modeling-py"
  },
  "language_info": {
   "codemirror_mode": {
    "name": "ipython",
    "version": 3
   },
   "file_extension": ".py",
   "mimetype": "text/x-python",
   "name": "python",
   "nbconvert_exporter": "python",
   "pygments_lexer": "ipython3",
   "version": "3.7.13"
  }
 },
 "nbformat": 4,
 "nbformat_minor": 5
}
